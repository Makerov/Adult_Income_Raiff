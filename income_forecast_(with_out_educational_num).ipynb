{
  "nbformat": 4,
  "nbformat_minor": 0,
  "metadata": {
    "colab": {
      "provenance": [],
      "include_colab_link": true
    },
    "kernelspec": {
      "name": "python3",
      "display_name": "Python 3"
    },
    "language_info": {
      "name": "python"
    }
  },
  "cells": [
    {
      "cell_type": "markdown",
      "metadata": {
        "id": "view-in-github",
        "colab_type": "text"
      },
      "source": [
        "<a href=\"https://colab.research.google.com/github/Makerov/Adult_Income_Raiff/blob/main/income_forecast_(with_out_educational_num).ipynb\" target=\"_parent\"><img src=\"https://colab.research.google.com/assets/colab-badge.svg\" alt=\"Open In Colab\"/></a>"
      ]
    },
    {
      "cell_type": "markdown",
      "source": [
        "Подключение к БД"
      ],
      "metadata": {
        "id": "4meHq0Et9fbv"
      }
    },
    {
      "cell_type": "code",
      "source": [
        "!mkdir -p ~/.postgresql && \\\n",
        "wget \"https://storage.yandexcloud.net/cloud-certs/CA.pem\" \\\n",
        "    --output-document ~/.postgresql/root.crt && \\\n",
        "chmod 0600 ~/.postgresql/root.crt\n",
        "!sudo apt update && sudo apt install --yes python3 python3-pip && \\\n",
        "!pip3 install psycopg2-binary"
      ],
      "metadata": {
        "colab": {
          "base_uri": "https://localhost:8080/"
        },
        "id": "eVIYEwhD9nSx",
        "outputId": "580bfdea-ae46-45ad-b7ca-5bd9471c8d0a"
      },
      "execution_count": 1,
      "outputs": [
        {
          "output_type": "stream",
          "name": "stdout",
          "text": [
            "--2023-02-26 05:51:20--  https://storage.yandexcloud.net/cloud-certs/CA.pem\n",
            "Resolving storage.yandexcloud.net (storage.yandexcloud.net)... 213.180.193.243, 2a02:6b8::1d9\n",
            "Connecting to storage.yandexcloud.net (storage.yandexcloud.net)|213.180.193.243|:443... connected.\n",
            "HTTP request sent, awaiting response... 200 OK\n",
            "Length: 3579 (3.5K) [application/x-x509-ca-cert]\n",
            "Saving to: ‘/root/.postgresql/root.crt’\n",
            "\n",
            "/root/.postgresql/r 100%[===================>]   3.50K  --.-KB/s    in 0s      \n",
            "\n",
            "2023-02-26 05:51:22 (449 MB/s) - ‘/root/.postgresql/root.crt’ saved [3579/3579]\n",
            "\n",
            "Get:1 https://cloud.r-project.org/bin/linux/ubuntu focal-cran40/ InRelease [3,622 B]\n",
            "Ign:2 https://developer.download.nvidia.com/compute/machine-learning/repos/ubuntu2004/x86_64  InRelease\n",
            "Hit:3 https://developer.download.nvidia.com/compute/cuda/repos/ubuntu2004/x86_64  InRelease\n",
            "Get:4 http://security.ubuntu.com/ubuntu focal-security InRelease [114 kB]\n",
            "Hit:5 http://archive.ubuntu.com/ubuntu focal InRelease\n",
            "Hit:6 https://developer.download.nvidia.com/compute/machine-learning/repos/ubuntu2004/x86_64  Release\n",
            "Hit:7 http://ppa.launchpad.net/c2d4u.team/c2d4u4.0+/ubuntu focal InRelease\n",
            "Get:8 http://archive.ubuntu.com/ubuntu focal-updates InRelease [114 kB]\n",
            "Hit:10 http://ppa.launchpad.net/cran/libgit2/ubuntu focal InRelease\n",
            "Hit:11 http://ppa.launchpad.net/deadsnakes/ppa/ubuntu focal InRelease\n",
            "Get:12 http://archive.ubuntu.com/ubuntu focal-backports InRelease [108 kB]\n",
            "Get:13 http://security.ubuntu.com/ubuntu focal-security/universe amd64 Packages [1,000 kB]\n",
            "Hit:14 http://ppa.launchpad.net/graphics-drivers/ppa/ubuntu focal InRelease\n",
            "Get:15 http://archive.ubuntu.com/ubuntu focal-updates/universe amd64 Packages [1,299 kB]\n",
            "Hit:16 http://ppa.launchpad.net/ubuntugis/ppa/ubuntu focal InRelease\n",
            "Get:17 http://archive.ubuntu.com/ubuntu focal-updates/main amd64 Packages [2,972 kB]\n",
            "Get:18 http://archive.ubuntu.com/ubuntu focal-updates/restricted amd64 Packages [2,069 kB]\n",
            "Fetched 7,679 kB in 4s (2,038 kB/s)\n",
            "Reading package lists... Done\n",
            "Building dependency tree       \n",
            "Reading state information... Done\n",
            "19 packages can be upgraded. Run 'apt list --upgradable' to see them.\n",
            "Reading package lists... Done\n",
            "Building dependency tree       \n",
            "Reading state information... Done\n",
            "python3 is already the newest version (3.8.2-0ubuntu2).\n",
            "python3 set to manually installed.\n",
            "The following additional packages will be installed:\n",
            "  python-pip-whl python3-setuptools python3-wheel\n",
            "Suggested packages:\n",
            "  python-setuptools-doc\n",
            "The following NEW packages will be installed:\n",
            "  python-pip-whl python3-pip python3-setuptools python3-wheel\n",
            "0 upgraded, 4 newly installed, 0 to remove and 19 not upgraded.\n",
            "Need to get 2,389 kB of archives.\n",
            "After this operation, 4,933 kB of additional disk space will be used.\n",
            "Get:1 http://archive.ubuntu.com/ubuntu focal-updates/universe amd64 python-pip-whl all 20.0.2-5ubuntu1.7 [1,805 kB]\n",
            "Get:2 http://archive.ubuntu.com/ubuntu focal-updates/main amd64 python3-setuptools all 45.2.0-1ubuntu0.1 [330 kB]\n",
            "Get:3 http://archive.ubuntu.com/ubuntu focal-updates/universe amd64 python3-wheel all 0.34.2-1ubuntu0.1 [23.9 kB]\n",
            "Get:4 http://archive.ubuntu.com/ubuntu focal-updates/universe amd64 python3-pip all 20.0.2-5ubuntu1.7 [230 kB]\n",
            "Fetched 2,389 kB in 2s (1,118 kB/s)\n",
            "debconf: unable to initialize frontend: Dialog\n",
            "debconf: (No usable dialog-like program is installed, so the dialog based frontend cannot be used. at /usr/share/perl5/Debconf/FrontEnd/Dialog.pm line 76, <> line 4.)\n",
            "debconf: falling back to frontend: Readline\n",
            "debconf: unable to initialize frontend: Readline\n",
            "debconf: (This frontend requires a controlling tty.)\n",
            "debconf: falling back to frontend: Teletype\n",
            "dpkg-preconfigure: unable to re-open stdin: \n",
            "Selecting previously unselected package python-pip-whl.\n",
            "(Reading database ... 128208 files and directories currently installed.)\n",
            "Preparing to unpack .../python-pip-whl_20.0.2-5ubuntu1.7_all.deb ...\n",
            "Unpacking python-pip-whl (20.0.2-5ubuntu1.7) ...\n",
            "Selecting previously unselected package python3-setuptools.\n",
            "Preparing to unpack .../python3-setuptools_45.2.0-1ubuntu0.1_all.deb ...\n",
            "Unpacking python3-setuptools (45.2.0-1ubuntu0.1) ...\n",
            "Selecting previously unselected package python3-wheel.\n",
            "Preparing to unpack .../python3-wheel_0.34.2-1ubuntu0.1_all.deb ...\n",
            "Unpacking python3-wheel (0.34.2-1ubuntu0.1) ...\n",
            "Selecting previously unselected package python3-pip.\n",
            "Preparing to unpack .../python3-pip_20.0.2-5ubuntu1.7_all.deb ...\n",
            "Unpacking python3-pip (20.0.2-5ubuntu1.7) ...\n",
            "Setting up python3-setuptools (45.2.0-1ubuntu0.1) ...\n",
            "Setting up python3-wheel (0.34.2-1ubuntu0.1) ...\n",
            "Setting up python-pip-whl (20.0.2-5ubuntu1.7) ...\n",
            "Setting up python3-pip (20.0.2-5ubuntu1.7) ...\n",
            "Processing triggers for man-db (2.9.1-1) ...\n",
            "/bin/bash: !pip3: command not found\n"
          ]
        }
      ]
    },
    {
      "cell_type": "markdown",
      "source": [
        "Подключение библиотек и выгрузка датасета"
      ],
      "metadata": {
        "id": "xA7ZCsJOHMQW"
      }
    },
    {
      "cell_type": "code",
      "source": [
        "import psycopg2\n",
        "import pandas as pd\n",
        "import numpy as np\n",
        "from matplotlib import pyplot as plt\n",
        "from sklearn.linear_model import LogisticRegression\n",
        "\n",
        "import warnings\n",
        "warnings.filterwarnings(\"ignore\")\n",
        "\n",
        "conn = psycopg2.connect(\"\"\"\n",
        "    host=rc1b-70q90cunwkzx49mj.mdb.yandexcloud.net\n",
        "    port=6432\n",
        "    sslmode=verify-full\n",
        "    dbname=db_clients\n",
        "    user=mlhs_student\n",
        "    password=mlhs_student\n",
        "    target_session_attrs=read-write\n",
        "\"\"\")\n",
        "\n",
        "query = \"SELECT * from public.adult_income\"\n",
        "data = pd.read_sql_query(query, conn)\n",
        "\n",
        "conn.close()\n",
        "\n",
        "data.head(9)"
      ],
      "metadata": {
        "colab": {
          "base_uri": "https://localhost:8080/",
          "height": 332
        },
        "id": "jrIsMSqi-Ex1",
        "outputId": "cd79e9f9-fbb0-4367-d501-ae79842ce17c"
      },
      "execution_count": 2,
      "outputs": [
        {
          "output_type": "execute_result",
          "data": {
            "text/plain": [
              "   age         workclass  fnlwgt     education  educational-num  \\\n",
              "0   25           Private  226802          11th                7   \n",
              "1   38           Private   89814       HS-grad                9   \n",
              "2   28         Local-gov  336951    Assoc-acdm               12   \n",
              "3   44           Private  160323  Some-college               10   \n",
              "4   18                 ?  103497  Some-college               10   \n",
              "5   34           Private  198693          10th                6   \n",
              "6   29                 ?  227026       HS-grad                9   \n",
              "7   63  Self-emp-not-inc  104626   Prof-school               15   \n",
              "8   24           Private  369667  Some-college               10   \n",
              "\n",
              "       marital-status         occupation   relationship   race  gender  \\\n",
              "0       Never-married  Machine-op-inspct      Own-child  Black    Male   \n",
              "1  Married-civ-spouse    Farming-fishing        Husband  White    Male   \n",
              "2  Married-civ-spouse    Protective-serv        Husband  White    Male   \n",
              "3  Married-civ-spouse  Machine-op-inspct        Husband  Black    Male   \n",
              "4       Never-married                  ?      Own-child  White  Female   \n",
              "5       Never-married      Other-service  Not-in-family  White    Male   \n",
              "6       Never-married                  ?      Unmarried  Black    Male   \n",
              "7  Married-civ-spouse     Prof-specialty        Husband  White    Male   \n",
              "8       Never-married      Other-service      Unmarried  White  Female   \n",
              "\n",
              "   capital-gain  capital-loss  hours-per-week native-country income  \n",
              "0           0.0           0.0            40.0  United-States  <=50K  \n",
              "1           0.0           0.0            50.0  United-States  <=50K  \n",
              "2           0.0           0.0            40.0  United-States   >50K  \n",
              "3        7688.0           0.0            40.0  United-States   >50K  \n",
              "4           0.0           0.0            30.0  United-States  <=50K  \n",
              "5           0.0           0.0            30.0  United-States  <=50K  \n",
              "6           0.0           0.0            40.0  United-States  <=50K  \n",
              "7        3103.0           0.0            32.0  United-States   >50K  \n",
              "8           0.0           0.0            40.0  United-States  <=50K  "
            ],
            "text/html": [
              "\n",
              "  <div id=\"df-c70c2f00-affe-468e-99fa-626885e0522c\">\n",
              "    <div class=\"colab-df-container\">\n",
              "      <div>\n",
              "<style scoped>\n",
              "    .dataframe tbody tr th:only-of-type {\n",
              "        vertical-align: middle;\n",
              "    }\n",
              "\n",
              "    .dataframe tbody tr th {\n",
              "        vertical-align: top;\n",
              "    }\n",
              "\n",
              "    .dataframe thead th {\n",
              "        text-align: right;\n",
              "    }\n",
              "</style>\n",
              "<table border=\"1\" class=\"dataframe\">\n",
              "  <thead>\n",
              "    <tr style=\"text-align: right;\">\n",
              "      <th></th>\n",
              "      <th>age</th>\n",
              "      <th>workclass</th>\n",
              "      <th>fnlwgt</th>\n",
              "      <th>education</th>\n",
              "      <th>educational-num</th>\n",
              "      <th>marital-status</th>\n",
              "      <th>occupation</th>\n",
              "      <th>relationship</th>\n",
              "      <th>race</th>\n",
              "      <th>gender</th>\n",
              "      <th>capital-gain</th>\n",
              "      <th>capital-loss</th>\n",
              "      <th>hours-per-week</th>\n",
              "      <th>native-country</th>\n",
              "      <th>income</th>\n",
              "    </tr>\n",
              "  </thead>\n",
              "  <tbody>\n",
              "    <tr>\n",
              "      <th>0</th>\n",
              "      <td>25</td>\n",
              "      <td>Private</td>\n",
              "      <td>226802</td>\n",
              "      <td>11th</td>\n",
              "      <td>7</td>\n",
              "      <td>Never-married</td>\n",
              "      <td>Machine-op-inspct</td>\n",
              "      <td>Own-child</td>\n",
              "      <td>Black</td>\n",
              "      <td>Male</td>\n",
              "      <td>0.0</td>\n",
              "      <td>0.0</td>\n",
              "      <td>40.0</td>\n",
              "      <td>United-States</td>\n",
              "      <td>&lt;=50K</td>\n",
              "    </tr>\n",
              "    <tr>\n",
              "      <th>1</th>\n",
              "      <td>38</td>\n",
              "      <td>Private</td>\n",
              "      <td>89814</td>\n",
              "      <td>HS-grad</td>\n",
              "      <td>9</td>\n",
              "      <td>Married-civ-spouse</td>\n",
              "      <td>Farming-fishing</td>\n",
              "      <td>Husband</td>\n",
              "      <td>White</td>\n",
              "      <td>Male</td>\n",
              "      <td>0.0</td>\n",
              "      <td>0.0</td>\n",
              "      <td>50.0</td>\n",
              "      <td>United-States</td>\n",
              "      <td>&lt;=50K</td>\n",
              "    </tr>\n",
              "    <tr>\n",
              "      <th>2</th>\n",
              "      <td>28</td>\n",
              "      <td>Local-gov</td>\n",
              "      <td>336951</td>\n",
              "      <td>Assoc-acdm</td>\n",
              "      <td>12</td>\n",
              "      <td>Married-civ-spouse</td>\n",
              "      <td>Protective-serv</td>\n",
              "      <td>Husband</td>\n",
              "      <td>White</td>\n",
              "      <td>Male</td>\n",
              "      <td>0.0</td>\n",
              "      <td>0.0</td>\n",
              "      <td>40.0</td>\n",
              "      <td>United-States</td>\n",
              "      <td>&gt;50K</td>\n",
              "    </tr>\n",
              "    <tr>\n",
              "      <th>3</th>\n",
              "      <td>44</td>\n",
              "      <td>Private</td>\n",
              "      <td>160323</td>\n",
              "      <td>Some-college</td>\n",
              "      <td>10</td>\n",
              "      <td>Married-civ-spouse</td>\n",
              "      <td>Machine-op-inspct</td>\n",
              "      <td>Husband</td>\n",
              "      <td>Black</td>\n",
              "      <td>Male</td>\n",
              "      <td>7688.0</td>\n",
              "      <td>0.0</td>\n",
              "      <td>40.0</td>\n",
              "      <td>United-States</td>\n",
              "      <td>&gt;50K</td>\n",
              "    </tr>\n",
              "    <tr>\n",
              "      <th>4</th>\n",
              "      <td>18</td>\n",
              "      <td>?</td>\n",
              "      <td>103497</td>\n",
              "      <td>Some-college</td>\n",
              "      <td>10</td>\n",
              "      <td>Never-married</td>\n",
              "      <td>?</td>\n",
              "      <td>Own-child</td>\n",
              "      <td>White</td>\n",
              "      <td>Female</td>\n",
              "      <td>0.0</td>\n",
              "      <td>0.0</td>\n",
              "      <td>30.0</td>\n",
              "      <td>United-States</td>\n",
              "      <td>&lt;=50K</td>\n",
              "    </tr>\n",
              "    <tr>\n",
              "      <th>5</th>\n",
              "      <td>34</td>\n",
              "      <td>Private</td>\n",
              "      <td>198693</td>\n",
              "      <td>10th</td>\n",
              "      <td>6</td>\n",
              "      <td>Never-married</td>\n",
              "      <td>Other-service</td>\n",
              "      <td>Not-in-family</td>\n",
              "      <td>White</td>\n",
              "      <td>Male</td>\n",
              "      <td>0.0</td>\n",
              "      <td>0.0</td>\n",
              "      <td>30.0</td>\n",
              "      <td>United-States</td>\n",
              "      <td>&lt;=50K</td>\n",
              "    </tr>\n",
              "    <tr>\n",
              "      <th>6</th>\n",
              "      <td>29</td>\n",
              "      <td>?</td>\n",
              "      <td>227026</td>\n",
              "      <td>HS-grad</td>\n",
              "      <td>9</td>\n",
              "      <td>Never-married</td>\n",
              "      <td>?</td>\n",
              "      <td>Unmarried</td>\n",
              "      <td>Black</td>\n",
              "      <td>Male</td>\n",
              "      <td>0.0</td>\n",
              "      <td>0.0</td>\n",
              "      <td>40.0</td>\n",
              "      <td>United-States</td>\n",
              "      <td>&lt;=50K</td>\n",
              "    </tr>\n",
              "    <tr>\n",
              "      <th>7</th>\n",
              "      <td>63</td>\n",
              "      <td>Self-emp-not-inc</td>\n",
              "      <td>104626</td>\n",
              "      <td>Prof-school</td>\n",
              "      <td>15</td>\n",
              "      <td>Married-civ-spouse</td>\n",
              "      <td>Prof-specialty</td>\n",
              "      <td>Husband</td>\n",
              "      <td>White</td>\n",
              "      <td>Male</td>\n",
              "      <td>3103.0</td>\n",
              "      <td>0.0</td>\n",
              "      <td>32.0</td>\n",
              "      <td>United-States</td>\n",
              "      <td>&gt;50K</td>\n",
              "    </tr>\n",
              "    <tr>\n",
              "      <th>8</th>\n",
              "      <td>24</td>\n",
              "      <td>Private</td>\n",
              "      <td>369667</td>\n",
              "      <td>Some-college</td>\n",
              "      <td>10</td>\n",
              "      <td>Never-married</td>\n",
              "      <td>Other-service</td>\n",
              "      <td>Unmarried</td>\n",
              "      <td>White</td>\n",
              "      <td>Female</td>\n",
              "      <td>0.0</td>\n",
              "      <td>0.0</td>\n",
              "      <td>40.0</td>\n",
              "      <td>United-States</td>\n",
              "      <td>&lt;=50K</td>\n",
              "    </tr>\n",
              "  </tbody>\n",
              "</table>\n",
              "</div>\n",
              "      <button class=\"colab-df-convert\" onclick=\"convertToInteractive('df-c70c2f00-affe-468e-99fa-626885e0522c')\"\n",
              "              title=\"Convert this dataframe to an interactive table.\"\n",
              "              style=\"display:none;\">\n",
              "        \n",
              "  <svg xmlns=\"http://www.w3.org/2000/svg\" height=\"24px\"viewBox=\"0 0 24 24\"\n",
              "       width=\"24px\">\n",
              "    <path d=\"M0 0h24v24H0V0z\" fill=\"none\"/>\n",
              "    <path d=\"M18.56 5.44l.94 2.06.94-2.06 2.06-.94-2.06-.94-.94-2.06-.94 2.06-2.06.94zm-11 1L8.5 8.5l.94-2.06 2.06-.94-2.06-.94L8.5 2.5l-.94 2.06-2.06.94zm10 10l.94 2.06.94-2.06 2.06-.94-2.06-.94-.94-2.06-.94 2.06-2.06.94z\"/><path d=\"M17.41 7.96l-1.37-1.37c-.4-.4-.92-.59-1.43-.59-.52 0-1.04.2-1.43.59L10.3 9.45l-7.72 7.72c-.78.78-.78 2.05 0 2.83L4 21.41c.39.39.9.59 1.41.59.51 0 1.02-.2 1.41-.59l7.78-7.78 2.81-2.81c.8-.78.8-2.07 0-2.86zM5.41 20L4 18.59l7.72-7.72 1.47 1.35L5.41 20z\"/>\n",
              "  </svg>\n",
              "      </button>\n",
              "      \n",
              "  <style>\n",
              "    .colab-df-container {\n",
              "      display:flex;\n",
              "      flex-wrap:wrap;\n",
              "      gap: 12px;\n",
              "    }\n",
              "\n",
              "    .colab-df-convert {\n",
              "      background-color: #E8F0FE;\n",
              "      border: none;\n",
              "      border-radius: 50%;\n",
              "      cursor: pointer;\n",
              "      display: none;\n",
              "      fill: #1967D2;\n",
              "      height: 32px;\n",
              "      padding: 0 0 0 0;\n",
              "      width: 32px;\n",
              "    }\n",
              "\n",
              "    .colab-df-convert:hover {\n",
              "      background-color: #E2EBFA;\n",
              "      box-shadow: 0px 1px 2px rgba(60, 64, 67, 0.3), 0px 1px 3px 1px rgba(60, 64, 67, 0.15);\n",
              "      fill: #174EA6;\n",
              "    }\n",
              "\n",
              "    [theme=dark] .colab-df-convert {\n",
              "      background-color: #3B4455;\n",
              "      fill: #D2E3FC;\n",
              "    }\n",
              "\n",
              "    [theme=dark] .colab-df-convert:hover {\n",
              "      background-color: #434B5C;\n",
              "      box-shadow: 0px 1px 3px 1px rgba(0, 0, 0, 0.15);\n",
              "      filter: drop-shadow(0px 1px 2px rgba(0, 0, 0, 0.3));\n",
              "      fill: #FFFFFF;\n",
              "    }\n",
              "  </style>\n",
              "\n",
              "      <script>\n",
              "        const buttonEl =\n",
              "          document.querySelector('#df-c70c2f00-affe-468e-99fa-626885e0522c button.colab-df-convert');\n",
              "        buttonEl.style.display =\n",
              "          google.colab.kernel.accessAllowed ? 'block' : 'none';\n",
              "\n",
              "        async function convertToInteractive(key) {\n",
              "          const element = document.querySelector('#df-c70c2f00-affe-468e-99fa-626885e0522c');\n",
              "          const dataTable =\n",
              "            await google.colab.kernel.invokeFunction('convertToInteractive',\n",
              "                                                     [key], {});\n",
              "          if (!dataTable) return;\n",
              "\n",
              "          const docLinkHtml = 'Like what you see? Visit the ' +\n",
              "            '<a target=\"_blank\" href=https://colab.research.google.com/notebooks/data_table.ipynb>data table notebook</a>'\n",
              "            + ' to learn more about interactive tables.';\n",
              "          element.innerHTML = '';\n",
              "          dataTable['output_type'] = 'display_data';\n",
              "          await google.colab.output.renderOutput(dataTable, element);\n",
              "          const docLink = document.createElement('div');\n",
              "          docLink.innerHTML = docLinkHtml;\n",
              "          element.appendChild(docLink);\n",
              "        }\n",
              "      </script>\n",
              "    </div>\n",
              "  </div>\n",
              "  "
            ]
          },
          "metadata": {},
          "execution_count": 2
        }
      ]
    },
    {
      "cell_type": "markdown",
      "source": [],
      "metadata": {
        "id": "Wr6_odt5HvnM"
      }
    },
    {
      "cell_type": "code",
      "source": [
        "data.shape"
      ],
      "metadata": {
        "id": "qRaWOHyIHrDj",
        "outputId": "f7882116-1b5d-4131-e67a-1c292910de27",
        "colab": {
          "base_uri": "https://localhost:8080/"
        }
      },
      "execution_count": 3,
      "outputs": [
        {
          "output_type": "execute_result",
          "data": {
            "text/plain": [
              "(9615, 15)"
            ]
          },
          "metadata": {},
          "execution_count": 3
        }
      ]
    },
    {
      "cell_type": "code",
      "source": [
        "data.dtypes"
      ],
      "metadata": {
        "id": "CVQ-UBLCH7kw",
        "outputId": "787812e0-6f4f-4d2a-8bf0-816eb50a71a6",
        "colab": {
          "base_uri": "https://localhost:8080/"
        }
      },
      "execution_count": 4,
      "outputs": [
        {
          "output_type": "execute_result",
          "data": {
            "text/plain": [
              "age                  int64\n",
              "workclass           object\n",
              "fnlwgt               int64\n",
              "education           object\n",
              "educational-num      int64\n",
              "marital-status      object\n",
              "occupation          object\n",
              "relationship        object\n",
              "race                object\n",
              "gender              object\n",
              "capital-gain       float64\n",
              "capital-loss       float64\n",
              "hours-per-week     float64\n",
              "native-country      object\n",
              "income              object\n",
              "dtype: object"
            ]
          },
          "metadata": {},
          "execution_count": 4
        }
      ]
    },
    {
      "cell_type": "markdown",
      "source": [
        "## Сохранение данных"
      ],
      "metadata": {
        "id": "bFnnNlDkKj85"
      }
    },
    {
      "cell_type": "code",
      "source": [
        "data.to_csv(\"clients_class.csv\", index=False)"
      ],
      "metadata": {
        "id": "kCCTWre_K1ms"
      },
      "execution_count": null,
      "outputs": []
    },
    {
      "cell_type": "markdown",
      "source": [
        "### Разведочный анализ данных"
      ],
      "metadata": {
        "id": "p1Tbqg6XMxOU"
      }
    },
    {
      "cell_type": "markdown",
      "source": [
        "## 1. Оценка качества данных\n",
        "* пропущенные значения\n",
        "* ошибочные значения"
      ],
      "metadata": {
        "id": "NXt1IZ1pM6cS"
      }
    },
    {
      "cell_type": "code",
      "source": [
        "len(data)"
      ],
      "metadata": {
        "id": "EXNokLv-M17u",
        "outputId": "8cd37976-b0f2-45fe-c497-303ab2f6b1ed",
        "colab": {
          "base_uri": "https://localhost:8080/"
        }
      },
      "execution_count": 5,
      "outputs": [
        {
          "output_type": "execute_result",
          "data": {
            "text/plain": [
              "9615"
            ]
          },
          "metadata": {},
          "execution_count": 5
        }
      ]
    },
    {
      "cell_type": "markdown",
      "source": [
        "##### Посмотрим, есть ли в данных пропущенные значения."
      ],
      "metadata": {
        "id": "Ou4_5482NG_f"
      }
    },
    {
      "cell_type": "code",
      "source": [
        "data.isna().sum()"
      ],
      "metadata": {
        "colab": {
          "base_uri": "https://localhost:8080/"
        },
        "id": "ZEDfE-pJAzR-",
        "outputId": "5592c4b7-9314-476b-a33e-974bcd19cf4b"
      },
      "execution_count": 6,
      "outputs": [
        {
          "output_type": "execute_result",
          "data": {
            "text/plain": [
              "age                0\n",
              "workclass          0\n",
              "fnlwgt             0\n",
              "education          0\n",
              "educational-num    0\n",
              "marital-status     0\n",
              "occupation         0\n",
              "relationship       0\n",
              "race               1\n",
              "gender             1\n",
              "capital-gain       1\n",
              "capital-loss       1\n",
              "hours-per-week     1\n",
              "native-country     1\n",
              "income             1\n",
              "dtype: int64"
            ]
          },
          "metadata": {},
          "execution_count": 6
        }
      ]
    },
    {
      "cell_type": "markdown",
      "source": [
        "##### Проверим встречающиеся значения в переменных с пропусками"
      ],
      "metadata": {
        "id": "1JPYs8t50nUZ"
      }
    },
    {
      "cell_type": "code",
      "source": [
        "data['occupation'].value_counts()\n",
        "\n",
        "# data[\"educational-num\"] = data[\"educational-num\"].astype(object)\n",
        "# data[\"capital-gain\"].fillna(data['capital-gain'].mean(), inplace=True)\n",
        "# data[\"capital-gain\"].head()# = data[\"capital-gain\"].astype(str)\n",
        "# data['capital-gain'].mean()"
      ],
      "metadata": {
        "colab": {
          "base_uri": "https://localhost:8080/"
        },
        "id": "X_1conus0lKE",
        "outputId": "9db551ea-2030-46d0-c9da-b96be0f6d3b6"
      },
      "execution_count": 7,
      "outputs": [
        {
          "output_type": "execute_result",
          "data": {
            "text/plain": [
              "Prof-specialty       1222\n",
              "Exec-managerial      1213\n",
              "Craft-repair         1183\n",
              "Adm-clerical         1079\n",
              "Sales                1066\n",
              "Other-service         960\n",
              "Machine-op-inspct     621\n",
              "?                     585\n",
              "Transport-moving      429\n",
              "Handlers-cleaners     414\n",
              "Farming-fishing       310\n",
              "Tech-support          279\n",
              "Protective-serv       194\n",
              "Priv-house-serv        57\n",
              "Armed-Forces            3\n",
              "Name: occupation, dtype: int64"
            ]
          },
          "metadata": {},
          "execution_count": 7
        }
      ]
    },
    {
      "cell_type": "markdown",
      "source": [
        "##### Заполним пропуски в столбцах: race, gender, capital-gain, capital-loss, hours-per-week, native-country, income"
      ],
      "metadata": {
        "id": "Dm5E6ODvN1_-"
      }
    },
    {
      "cell_type": "code",
      "source": [
        "\n",
        "data[\"workclass\"].replace('?', 'Other', inplace=True)\n",
        "data[\"occupation\"].replace('?', 'Other', inplace=True)\n",
        "data[\"race\"].fillna('White', inplace=True)\n",
        "data[\"gender\"].fillna('Male', inplace=True)\n",
        "data[\"capital-gain\"].fillna(data['capital-gain'].median(), inplace=True)\n",
        "data[\"capital-loss\"].fillna(data['capital-loss'].median(), inplace=True)\n",
        "data[\"hours-per-week\"].fillna(data['hours-per-week'].median(), inplace=True)\n",
        "data[\"native-country\"].fillna('United-States', inplace=True)\n",
        "data[\"native-country\"].replace('?', 'Other', inplace=True)\n",
        "data[\"income\"].fillna('<=50K', inplace=True)\n",
        "data['income'].replace(['<=50K', '>50K'], [0, 1], inplace=True)\n",
        "data[\"educational-num\"] = data[\"educational-num\"].astype(object)\n",
        "\n",
        "# data[\"educational-num\"].astype(object)\n",
        "\n",
        "# data.head()"
      ],
      "metadata": {
        "id": "iSzON0T6QQDh"
      },
      "execution_count": 8,
      "outputs": []
    },
    {
      "cell_type": "markdown",
      "source": [
        "##### Основные числовые характеристики"
      ],
      "metadata": {
        "id": "EC9ITT0eWMql"
      }
    },
    {
      "cell_type": "code",
      "source": [
        "# data['income'].value_counts()\n",
        "data.describe()"
      ],
      "metadata": {
        "id": "1QLZ6sl1V95T",
        "outputId": "12bda24a-8bc3-45a0-f042-8ae2ec5c20e1",
        "colab": {
          "base_uri": "https://localhost:8080/",
          "height": 300
        }
      },
      "execution_count": 9,
      "outputs": [
        {
          "output_type": "execute_result",
          "data": {
            "text/plain": [
              "               age        fnlwgt  capital-gain  capital-loss  hours-per-week  \\\n",
              "count  9615.000000  9.615000e+03   9615.000000   9615.000000     9615.000000   \n",
              "mean     38.732397  1.882881e+05   1121.881539     87.917525       40.522933   \n",
              "std      13.842364  1.051318e+05   7890.176170    404.065626       12.415576   \n",
              "min      17.000000  1.376900e+04      0.000000      0.000000        1.000000   \n",
              "25%      28.000000  1.154725e+05      0.000000      0.000000       40.000000   \n",
              "50%      37.000000  1.778390e+05      0.000000      0.000000       40.000000   \n",
              "75%      48.000000  2.374070e+05      0.000000      0.000000       45.000000   \n",
              "max      90.000000  1.490400e+06  99999.000000   3770.000000       99.000000   \n",
              "\n",
              "            income  \n",
              "count  9615.000000  \n",
              "mean      0.234841  \n",
              "std       0.423922  \n",
              "min       0.000000  \n",
              "25%       0.000000  \n",
              "50%       0.000000  \n",
              "75%       0.000000  \n",
              "max       1.000000  "
            ],
            "text/html": [
              "\n",
              "  <div id=\"df-8f824df6-bcc0-4b88-a592-5763f0b1105e\">\n",
              "    <div class=\"colab-df-container\">\n",
              "      <div>\n",
              "<style scoped>\n",
              "    .dataframe tbody tr th:only-of-type {\n",
              "        vertical-align: middle;\n",
              "    }\n",
              "\n",
              "    .dataframe tbody tr th {\n",
              "        vertical-align: top;\n",
              "    }\n",
              "\n",
              "    .dataframe thead th {\n",
              "        text-align: right;\n",
              "    }\n",
              "</style>\n",
              "<table border=\"1\" class=\"dataframe\">\n",
              "  <thead>\n",
              "    <tr style=\"text-align: right;\">\n",
              "      <th></th>\n",
              "      <th>age</th>\n",
              "      <th>fnlwgt</th>\n",
              "      <th>capital-gain</th>\n",
              "      <th>capital-loss</th>\n",
              "      <th>hours-per-week</th>\n",
              "      <th>income</th>\n",
              "    </tr>\n",
              "  </thead>\n",
              "  <tbody>\n",
              "    <tr>\n",
              "      <th>count</th>\n",
              "      <td>9615.000000</td>\n",
              "      <td>9.615000e+03</td>\n",
              "      <td>9615.000000</td>\n",
              "      <td>9615.000000</td>\n",
              "      <td>9615.000000</td>\n",
              "      <td>9615.000000</td>\n",
              "    </tr>\n",
              "    <tr>\n",
              "      <th>mean</th>\n",
              "      <td>38.732397</td>\n",
              "      <td>1.882881e+05</td>\n",
              "      <td>1121.881539</td>\n",
              "      <td>87.917525</td>\n",
              "      <td>40.522933</td>\n",
              "      <td>0.234841</td>\n",
              "    </tr>\n",
              "    <tr>\n",
              "      <th>std</th>\n",
              "      <td>13.842364</td>\n",
              "      <td>1.051318e+05</td>\n",
              "      <td>7890.176170</td>\n",
              "      <td>404.065626</td>\n",
              "      <td>12.415576</td>\n",
              "      <td>0.423922</td>\n",
              "    </tr>\n",
              "    <tr>\n",
              "      <th>min</th>\n",
              "      <td>17.000000</td>\n",
              "      <td>1.376900e+04</td>\n",
              "      <td>0.000000</td>\n",
              "      <td>0.000000</td>\n",
              "      <td>1.000000</td>\n",
              "      <td>0.000000</td>\n",
              "    </tr>\n",
              "    <tr>\n",
              "      <th>25%</th>\n",
              "      <td>28.000000</td>\n",
              "      <td>1.154725e+05</td>\n",
              "      <td>0.000000</td>\n",
              "      <td>0.000000</td>\n",
              "      <td>40.000000</td>\n",
              "      <td>0.000000</td>\n",
              "    </tr>\n",
              "    <tr>\n",
              "      <th>50%</th>\n",
              "      <td>37.000000</td>\n",
              "      <td>1.778390e+05</td>\n",
              "      <td>0.000000</td>\n",
              "      <td>0.000000</td>\n",
              "      <td>40.000000</td>\n",
              "      <td>0.000000</td>\n",
              "    </tr>\n",
              "    <tr>\n",
              "      <th>75%</th>\n",
              "      <td>48.000000</td>\n",
              "      <td>2.374070e+05</td>\n",
              "      <td>0.000000</td>\n",
              "      <td>0.000000</td>\n",
              "      <td>45.000000</td>\n",
              "      <td>0.000000</td>\n",
              "    </tr>\n",
              "    <tr>\n",
              "      <th>max</th>\n",
              "      <td>90.000000</td>\n",
              "      <td>1.490400e+06</td>\n",
              "      <td>99999.000000</td>\n",
              "      <td>3770.000000</td>\n",
              "      <td>99.000000</td>\n",
              "      <td>1.000000</td>\n",
              "    </tr>\n",
              "  </tbody>\n",
              "</table>\n",
              "</div>\n",
              "      <button class=\"colab-df-convert\" onclick=\"convertToInteractive('df-8f824df6-bcc0-4b88-a592-5763f0b1105e')\"\n",
              "              title=\"Convert this dataframe to an interactive table.\"\n",
              "              style=\"display:none;\">\n",
              "        \n",
              "  <svg xmlns=\"http://www.w3.org/2000/svg\" height=\"24px\"viewBox=\"0 0 24 24\"\n",
              "       width=\"24px\">\n",
              "    <path d=\"M0 0h24v24H0V0z\" fill=\"none\"/>\n",
              "    <path d=\"M18.56 5.44l.94 2.06.94-2.06 2.06-.94-2.06-.94-.94-2.06-.94 2.06-2.06.94zm-11 1L8.5 8.5l.94-2.06 2.06-.94-2.06-.94L8.5 2.5l-.94 2.06-2.06.94zm10 10l.94 2.06.94-2.06 2.06-.94-2.06-.94-.94-2.06-.94 2.06-2.06.94z\"/><path d=\"M17.41 7.96l-1.37-1.37c-.4-.4-.92-.59-1.43-.59-.52 0-1.04.2-1.43.59L10.3 9.45l-7.72 7.72c-.78.78-.78 2.05 0 2.83L4 21.41c.39.39.9.59 1.41.59.51 0 1.02-.2 1.41-.59l7.78-7.78 2.81-2.81c.8-.78.8-2.07 0-2.86zM5.41 20L4 18.59l7.72-7.72 1.47 1.35L5.41 20z\"/>\n",
              "  </svg>\n",
              "      </button>\n",
              "      \n",
              "  <style>\n",
              "    .colab-df-container {\n",
              "      display:flex;\n",
              "      flex-wrap:wrap;\n",
              "      gap: 12px;\n",
              "    }\n",
              "\n",
              "    .colab-df-convert {\n",
              "      background-color: #E8F0FE;\n",
              "      border: none;\n",
              "      border-radius: 50%;\n",
              "      cursor: pointer;\n",
              "      display: none;\n",
              "      fill: #1967D2;\n",
              "      height: 32px;\n",
              "      padding: 0 0 0 0;\n",
              "      width: 32px;\n",
              "    }\n",
              "\n",
              "    .colab-df-convert:hover {\n",
              "      background-color: #E2EBFA;\n",
              "      box-shadow: 0px 1px 2px rgba(60, 64, 67, 0.3), 0px 1px 3px 1px rgba(60, 64, 67, 0.15);\n",
              "      fill: #174EA6;\n",
              "    }\n",
              "\n",
              "    [theme=dark] .colab-df-convert {\n",
              "      background-color: #3B4455;\n",
              "      fill: #D2E3FC;\n",
              "    }\n",
              "\n",
              "    [theme=dark] .colab-df-convert:hover {\n",
              "      background-color: #434B5C;\n",
              "      box-shadow: 0px 1px 3px 1px rgba(0, 0, 0, 0.15);\n",
              "      filter: drop-shadow(0px 1px 2px rgba(0, 0, 0, 0.3));\n",
              "      fill: #FFFFFF;\n",
              "    }\n",
              "  </style>\n",
              "\n",
              "      <script>\n",
              "        const buttonEl =\n",
              "          document.querySelector('#df-8f824df6-bcc0-4b88-a592-5763f0b1105e button.colab-df-convert');\n",
              "        buttonEl.style.display =\n",
              "          google.colab.kernel.accessAllowed ? 'block' : 'none';\n",
              "\n",
              "        async function convertToInteractive(key) {\n",
              "          const element = document.querySelector('#df-8f824df6-bcc0-4b88-a592-5763f0b1105e');\n",
              "          const dataTable =\n",
              "            await google.colab.kernel.invokeFunction('convertToInteractive',\n",
              "                                                     [key], {});\n",
              "          if (!dataTable) return;\n",
              "\n",
              "          const docLinkHtml = 'Like what you see? Visit the ' +\n",
              "            '<a target=\"_blank\" href=https://colab.research.google.com/notebooks/data_table.ipynb>data table notebook</a>'\n",
              "            + ' to learn more about interactive tables.';\n",
              "          element.innerHTML = '';\n",
              "          dataTable['output_type'] = 'display_data';\n",
              "          await google.colab.output.renderOutput(dataTable, element);\n",
              "          const docLink = document.createElement('div');\n",
              "          docLink.innerHTML = docLinkHtml;\n",
              "          element.appendChild(docLink);\n",
              "        }\n",
              "      </script>\n",
              "    </div>\n",
              "  </div>\n",
              "  "
            ]
          },
          "metadata": {},
          "execution_count": 9
        }
      ]
    },
    {
      "cell_type": "code",
      "source": [
        "data.describe(include='object') # включение категориальных колонок"
      ],
      "metadata": {
        "id": "fCIsmjoUWdc7",
        "outputId": "9d57a8b7-0509-4ff8-cec1-0050c749bb91",
        "colab": {
          "base_uri": "https://localhost:8080/",
          "height": 175
        }
      },
      "execution_count": 10,
      "outputs": [
        {
          "output_type": "execute_result",
          "data": {
            "text/plain": [
              "       workclass education  educational-num      marital-status  \\\n",
              "count       9615      9615             9615                9615   \n",
              "unique         9        16               16                   7   \n",
              "top      Private   HS-grad                9  Married-civ-spouse   \n",
              "freq        6574      3121             3121                4307   \n",
              "\n",
              "            occupation relationship   race gender native-country  \n",
              "count             9615         9615   9615   9615           9615  \n",
              "unique              15            6      5      2             41  \n",
              "top     Prof-specialty      Husband  White   Male  United-States  \n",
              "freq              1222         3800   8256   6410           8682  "
            ],
            "text/html": [
              "\n",
              "  <div id=\"df-32383f84-2682-4de4-a1de-687d25ab3def\">\n",
              "    <div class=\"colab-df-container\">\n",
              "      <div>\n",
              "<style scoped>\n",
              "    .dataframe tbody tr th:only-of-type {\n",
              "        vertical-align: middle;\n",
              "    }\n",
              "\n",
              "    .dataframe tbody tr th {\n",
              "        vertical-align: top;\n",
              "    }\n",
              "\n",
              "    .dataframe thead th {\n",
              "        text-align: right;\n",
              "    }\n",
              "</style>\n",
              "<table border=\"1\" class=\"dataframe\">\n",
              "  <thead>\n",
              "    <tr style=\"text-align: right;\">\n",
              "      <th></th>\n",
              "      <th>workclass</th>\n",
              "      <th>education</th>\n",
              "      <th>educational-num</th>\n",
              "      <th>marital-status</th>\n",
              "      <th>occupation</th>\n",
              "      <th>relationship</th>\n",
              "      <th>race</th>\n",
              "      <th>gender</th>\n",
              "      <th>native-country</th>\n",
              "    </tr>\n",
              "  </thead>\n",
              "  <tbody>\n",
              "    <tr>\n",
              "      <th>count</th>\n",
              "      <td>9615</td>\n",
              "      <td>9615</td>\n",
              "      <td>9615</td>\n",
              "      <td>9615</td>\n",
              "      <td>9615</td>\n",
              "      <td>9615</td>\n",
              "      <td>9615</td>\n",
              "      <td>9615</td>\n",
              "      <td>9615</td>\n",
              "    </tr>\n",
              "    <tr>\n",
              "      <th>unique</th>\n",
              "      <td>9</td>\n",
              "      <td>16</td>\n",
              "      <td>16</td>\n",
              "      <td>7</td>\n",
              "      <td>15</td>\n",
              "      <td>6</td>\n",
              "      <td>5</td>\n",
              "      <td>2</td>\n",
              "      <td>41</td>\n",
              "    </tr>\n",
              "    <tr>\n",
              "      <th>top</th>\n",
              "      <td>Private</td>\n",
              "      <td>HS-grad</td>\n",
              "      <td>9</td>\n",
              "      <td>Married-civ-spouse</td>\n",
              "      <td>Prof-specialty</td>\n",
              "      <td>Husband</td>\n",
              "      <td>White</td>\n",
              "      <td>Male</td>\n",
              "      <td>United-States</td>\n",
              "    </tr>\n",
              "    <tr>\n",
              "      <th>freq</th>\n",
              "      <td>6574</td>\n",
              "      <td>3121</td>\n",
              "      <td>3121</td>\n",
              "      <td>4307</td>\n",
              "      <td>1222</td>\n",
              "      <td>3800</td>\n",
              "      <td>8256</td>\n",
              "      <td>6410</td>\n",
              "      <td>8682</td>\n",
              "    </tr>\n",
              "  </tbody>\n",
              "</table>\n",
              "</div>\n",
              "      <button class=\"colab-df-convert\" onclick=\"convertToInteractive('df-32383f84-2682-4de4-a1de-687d25ab3def')\"\n",
              "              title=\"Convert this dataframe to an interactive table.\"\n",
              "              style=\"display:none;\">\n",
              "        \n",
              "  <svg xmlns=\"http://www.w3.org/2000/svg\" height=\"24px\"viewBox=\"0 0 24 24\"\n",
              "       width=\"24px\">\n",
              "    <path d=\"M0 0h24v24H0V0z\" fill=\"none\"/>\n",
              "    <path d=\"M18.56 5.44l.94 2.06.94-2.06 2.06-.94-2.06-.94-.94-2.06-.94 2.06-2.06.94zm-11 1L8.5 8.5l.94-2.06 2.06-.94-2.06-.94L8.5 2.5l-.94 2.06-2.06.94zm10 10l.94 2.06.94-2.06 2.06-.94-2.06-.94-.94-2.06-.94 2.06-2.06.94z\"/><path d=\"M17.41 7.96l-1.37-1.37c-.4-.4-.92-.59-1.43-.59-.52 0-1.04.2-1.43.59L10.3 9.45l-7.72 7.72c-.78.78-.78 2.05 0 2.83L4 21.41c.39.39.9.59 1.41.59.51 0 1.02-.2 1.41-.59l7.78-7.78 2.81-2.81c.8-.78.8-2.07 0-2.86zM5.41 20L4 18.59l7.72-7.72 1.47 1.35L5.41 20z\"/>\n",
              "  </svg>\n",
              "      </button>\n",
              "      \n",
              "  <style>\n",
              "    .colab-df-container {\n",
              "      display:flex;\n",
              "      flex-wrap:wrap;\n",
              "      gap: 12px;\n",
              "    }\n",
              "\n",
              "    .colab-df-convert {\n",
              "      background-color: #E8F0FE;\n",
              "      border: none;\n",
              "      border-radius: 50%;\n",
              "      cursor: pointer;\n",
              "      display: none;\n",
              "      fill: #1967D2;\n",
              "      height: 32px;\n",
              "      padding: 0 0 0 0;\n",
              "      width: 32px;\n",
              "    }\n",
              "\n",
              "    .colab-df-convert:hover {\n",
              "      background-color: #E2EBFA;\n",
              "      box-shadow: 0px 1px 2px rgba(60, 64, 67, 0.3), 0px 1px 3px 1px rgba(60, 64, 67, 0.15);\n",
              "      fill: #174EA6;\n",
              "    }\n",
              "\n",
              "    [theme=dark] .colab-df-convert {\n",
              "      background-color: #3B4455;\n",
              "      fill: #D2E3FC;\n",
              "    }\n",
              "\n",
              "    [theme=dark] .colab-df-convert:hover {\n",
              "      background-color: #434B5C;\n",
              "      box-shadow: 0px 1px 3px 1px rgba(0, 0, 0, 0.15);\n",
              "      filter: drop-shadow(0px 1px 2px rgba(0, 0, 0, 0.3));\n",
              "      fill: #FFFFFF;\n",
              "    }\n",
              "  </style>\n",
              "\n",
              "      <script>\n",
              "        const buttonEl =\n",
              "          document.querySelector('#df-32383f84-2682-4de4-a1de-687d25ab3def button.colab-df-convert');\n",
              "        buttonEl.style.display =\n",
              "          google.colab.kernel.accessAllowed ? 'block' : 'none';\n",
              "\n",
              "        async function convertToInteractive(key) {\n",
              "          const element = document.querySelector('#df-32383f84-2682-4de4-a1de-687d25ab3def');\n",
              "          const dataTable =\n",
              "            await google.colab.kernel.invokeFunction('convertToInteractive',\n",
              "                                                     [key], {});\n",
              "          if (!dataTable) return;\n",
              "\n",
              "          const docLinkHtml = 'Like what you see? Visit the ' +\n",
              "            '<a target=\"_blank\" href=https://colab.research.google.com/notebooks/data_table.ipynb>data table notebook</a>'\n",
              "            + ' to learn more about interactive tables.';\n",
              "          element.innerHTML = '';\n",
              "          dataTable['output_type'] = 'display_data';\n",
              "          await google.colab.output.renderOutput(dataTable, element);\n",
              "          const docLink = document.createElement('div');\n",
              "          docLink.innerHTML = docLinkHtml;\n",
              "          element.appendChild(docLink);\n",
              "        }\n",
              "      </script>\n",
              "    </div>\n",
              "  </div>\n",
              "  "
            ]
          },
          "metadata": {},
          "execution_count": 10
        }
      ]
    },
    {
      "cell_type": "code",
      "source": [
        "corr = data.corr() # построение матрицы корреляций\n",
        "\n",
        "corr.style.background_gradient(cmap='coolwarm')"
      ],
      "metadata": {
        "id": "gOMf8Xu8XE59",
        "outputId": "f28a164e-d467-4db5-a2d3-4e2a18d4a019",
        "colab": {
          "base_uri": "https://localhost:8080/",
          "height": 206
        }
      },
      "execution_count": 13,
      "outputs": [
        {
          "output_type": "execute_result",
          "data": {
            "text/plain": [
              "<pandas.io.formats.style.Styler at 0x7fd8d103d4c0>"
            ],
            "text/html": [
              "<style type=\"text/css\">\n",
              "#T_358d5_row0_col0, #T_358d5_row1_col1, #T_358d5_row2_col2, #T_358d5_row3_col3, #T_358d5_row4_col4 {\n",
              "  background-color: #b40426;\n",
              "  color: #f1f1f1;\n",
              "}\n",
              "#T_358d5_row0_col1 {\n",
              "  background-color: #5d7ce6;\n",
              "  color: #f1f1f1;\n",
              "}\n",
              "#T_358d5_row0_col2 {\n",
              "  background-color: #536edd;\n",
              "  color: #f1f1f1;\n",
              "}\n",
              "#T_358d5_row0_col3 {\n",
              "  background-color: #4257c9;\n",
              "  color: #f1f1f1;\n",
              "}\n",
              "#T_358d5_row0_col4 {\n",
              "  background-color: #5977e3;\n",
              "  color: #f1f1f1;\n",
              "}\n",
              "#T_358d5_row1_col0 {\n",
              "  background-color: #445acc;\n",
              "  color: #f1f1f1;\n",
              "}\n",
              "#T_358d5_row1_col2, #T_358d5_row2_col0, #T_358d5_row2_col1, #T_358d5_row2_col3, #T_358d5_row2_col4 {\n",
              "  background-color: #3b4cc0;\n",
              "  color: #f1f1f1;\n",
              "}\n",
              "#T_358d5_row1_col3 {\n",
              "  background-color: #485fd1;\n",
              "  color: #f1f1f1;\n",
              "}\n",
              "#T_358d5_row1_col4 {\n",
              "  background-color: #5875e1;\n",
              "  color: #f1f1f1;\n",
              "}\n",
              "#T_358d5_row3_col0 {\n",
              "  background-color: #4358cb;\n",
              "  color: #f1f1f1;\n",
              "}\n",
              "#T_358d5_row3_col1 {\n",
              "  background-color: #6282ea;\n",
              "  color: #f1f1f1;\n",
              "}\n",
              "#T_358d5_row3_col2 {\n",
              "  background-color: #5470de;\n",
              "  color: #f1f1f1;\n",
              "}\n",
              "#T_358d5_row3_col4 {\n",
              "  background-color: #5a78e4;\n",
              "  color: #f1f1f1;\n",
              "}\n",
              "#T_358d5_row4_col0, #T_358d5_row4_col3 {\n",
              "  background-color: #7597f6;\n",
              "  color: #f1f1f1;\n",
              "}\n",
              "#T_358d5_row4_col1 {\n",
              "  background-color: #8badfd;\n",
              "  color: #000000;\n",
              "}\n",
              "#T_358d5_row4_col2 {\n",
              "  background-color: #6f92f3;\n",
              "  color: #f1f1f1;\n",
              "}\n",
              "</style>\n",
              "<table id=\"T_358d5_\" class=\"dataframe\">\n",
              "  <thead>\n",
              "    <tr>\n",
              "      <th class=\"blank level0\" >&nbsp;</th>\n",
              "      <th class=\"col_heading level0 col0\" >age</th>\n",
              "      <th class=\"col_heading level0 col1\" >capital-gain</th>\n",
              "      <th class=\"col_heading level0 col2\" >capital-loss</th>\n",
              "      <th class=\"col_heading level0 col3\" >hours-per-week</th>\n",
              "      <th class=\"col_heading level0 col4\" >income</th>\n",
              "    </tr>\n",
              "  </thead>\n",
              "  <tbody>\n",
              "    <tr>\n",
              "      <th id=\"T_358d5_level0_row0\" class=\"row_heading level0 row0\" >age</th>\n",
              "      <td id=\"T_358d5_row0_col0\" class=\"data row0 col0\" >1.000000</td>\n",
              "      <td id=\"T_358d5_row0_col1\" class=\"data row0 col1\" >0.082347</td>\n",
              "      <td id=\"T_358d5_row0_col2\" class=\"data row0 col2\" >0.052406</td>\n",
              "      <td id=\"T_358d5_row0_col3\" class=\"data row0 col3\" >0.081722</td>\n",
              "      <td id=\"T_358d5_row0_col4\" class=\"data row0 col4\" >0.224197</td>\n",
              "    </tr>\n",
              "    <tr>\n",
              "      <th id=\"T_358d5_level0_row1\" class=\"row_heading level0 row1\" >capital-gain</th>\n",
              "      <td id=\"T_358d5_row1_col0\" class=\"data row1 col0\" >0.082347</td>\n",
              "      <td id=\"T_358d5_row1_col1\" class=\"data row1 col1\" >1.000000</td>\n",
              "      <td id=\"T_358d5_row1_col2\" class=\"data row1 col2\" >-0.030941</td>\n",
              "      <td id=\"T_358d5_row1_col3\" class=\"data row1 col3\" >0.098912</td>\n",
              "      <td id=\"T_358d5_row1_col4\" class=\"data row1 col4\" >0.222003</td>\n",
              "    </tr>\n",
              "    <tr>\n",
              "      <th id=\"T_358d5_level0_row2\" class=\"row_heading level0 row2\" >capital-loss</th>\n",
              "      <td id=\"T_358d5_row2_col0\" class=\"data row2 col0\" >0.052406</td>\n",
              "      <td id=\"T_358d5_row2_col1\" class=\"data row2 col1\" >-0.030941</td>\n",
              "      <td id=\"T_358d5_row2_col2\" class=\"data row2 col2\" >1.000000</td>\n",
              "      <td id=\"T_358d5_row2_col3\" class=\"data row2 col3\" >0.056344</td>\n",
              "      <td id=\"T_358d5_row2_col4\" class=\"data row2 col4\" >0.139786</td>\n",
              "    </tr>\n",
              "    <tr>\n",
              "      <th id=\"T_358d5_level0_row3\" class=\"row_heading level0 row3\" >hours-per-week</th>\n",
              "      <td id=\"T_358d5_row3_col0\" class=\"data row3 col0\" >0.081722</td>\n",
              "      <td id=\"T_358d5_row3_col1\" class=\"data row3 col1\" >0.098912</td>\n",
              "      <td id=\"T_358d5_row3_col2\" class=\"data row3 col2\" >0.056344</td>\n",
              "      <td id=\"T_358d5_row3_col3\" class=\"data row3 col3\" >1.000000</td>\n",
              "      <td id=\"T_358d5_row3_col4\" class=\"data row3 col4\" >0.228855</td>\n",
              "    </tr>\n",
              "    <tr>\n",
              "      <th id=\"T_358d5_level0_row4\" class=\"row_heading level0 row4\" >income</th>\n",
              "      <td id=\"T_358d5_row4_col0\" class=\"data row4 col0\" >0.224197</td>\n",
              "      <td id=\"T_358d5_row4_col1\" class=\"data row4 col1\" >0.222003</td>\n",
              "      <td id=\"T_358d5_row4_col2\" class=\"data row4 col2\" >0.139786</td>\n",
              "      <td id=\"T_358d5_row4_col3\" class=\"data row4 col3\" >0.228855</td>\n",
              "      <td id=\"T_358d5_row4_col4\" class=\"data row4 col4\" >1.000000</td>\n",
              "    </tr>\n",
              "  </tbody>\n",
              "</table>\n"
            ]
          },
          "metadata": {},
          "execution_count": 13
        }
      ]
    },
    {
      "cell_type": "markdown",
      "source": [
        "##### Столбец Income слабее всего коррелирует с fnlwgt, исключим его из датасета"
      ],
      "metadata": {
        "id": "TcyCm1fYXjNC"
      }
    },
    {
      "cell_type": "code",
      "source": [
        "data.drop(['fnlwgt'], axis=1, inplace=True)"
      ],
      "metadata": {
        "id": "l3zwiu1V78Qg"
      },
      "execution_count": 12,
      "outputs": []
    },
    {
      "cell_type": "markdown",
      "source": [
        "### Визуализация"
      ],
      "metadata": {
        "id": "dsge-Y-zTnmn"
      }
    },
    {
      "cell_type": "code",
      "source": [
        "import matplotlib.pyplot as plt\n",
        "\n",
        "plt.scatter(data['hours-per-week'], data['income'], c=data['income'])"
      ],
      "metadata": {
        "colab": {
          "base_uri": "https://localhost:8080/",
          "height": 282
        },
        "id": "1I5sOSRoTqT-",
        "outputId": "ed68df1b-baa3-4a11-a032-86b5b63529f3"
      },
      "execution_count": 14,
      "outputs": [
        {
          "output_type": "execute_result",
          "data": {
            "text/plain": [
              "<matplotlib.collections.PathCollection at 0x7fd8d1553760>"
            ]
          },
          "metadata": {},
          "execution_count": 14
        },
        {
          "output_type": "display_data",
          "data": {
            "text/plain": [
              "<Figure size 432x288 with 1 Axes>"
            ],
            "image/png": "[encoded data removed]"
          },
          "metadata": {
            "needs_background": "light"
          }
        }
      ]
    },
    {
      "cell_type": "code",
      "source": [
        "data.groupby('income')['hours-per-week'].mean()"
      ],
      "metadata": {
        "colab": {
          "base_uri": "https://localhost:8080/"
        },
        "id": "X3gNzKU-UBfr",
        "outputId": "25d2c431-738b-4c54-8019-76fab9beb324"
      },
      "execution_count": 15,
      "outputs": [
        {
          "output_type": "execute_result",
          "data": {
            "text/plain": [
              "income\n",
              "0    38.948892\n",
              "1    45.651461\n",
              "Name: hours-per-week, dtype: float64"
            ]
          },
          "metadata": {},
          "execution_count": 15
        }
      ]
    },
    {
      "cell_type": "markdown",
      "source": [
        "### Обучение модели"
      ],
      "metadata": {
        "id": "M8v4FZXeVf2-"
      }
    },
    {
      "cell_type": "markdown",
      "source": [
        "##### Разделение на целевую переменную и признаки"
      ],
      "metadata": {
        "id": "AKK_idE_VhQd"
      }
    },
    {
      "cell_type": "code",
      "source": [
        "X = data.drop('income', axis=1) # матрица объект-признак\n",
        "y = data['income'] # целевая переменная"
      ],
      "metadata": {
        "id": "tcb-u177UXZE"
      },
      "execution_count": 16,
      "outputs": []
    },
    {
      "cell_type": "markdown",
      "source": [
        "##### Перед обучением выкенем не числовые признаки"
      ],
      "metadata": {
        "id": "KnHrZeNLWZGD"
      }
    },
    {
      "cell_type": "code",
      "source": [
        "X.drop(['workclass', 'education', 'educational-num', 'marital-status', 'occupation', 'relationship', 'race', 'gender', 'native-country'], axis=1, inplace=True)"
      ],
      "metadata": {
        "id": "q5Zpw2zVV12C"
      },
      "execution_count": 17,
      "outputs": []
    },
    {
      "cell_type": "markdown",
      "source": [
        "##### Разобъём дата-сет на обучающую выборку и тестовую 75/25"
      ],
      "metadata": {
        "id": "jjmNZG_XXNMy"
      }
    },
    {
      "cell_type": "code",
      "source": [
        "from sklearn.metrics import accuracy_score\n",
        "from sklearn.model_selection import train_test_split\n",
        "\n",
        "Xtrain, Xtest, ytrain, ytest = train_test_split(X, y, test_size=0.25, random_state=42)"
      ],
      "metadata": {
        "id": "PefUmTwJXPYA"
      },
      "execution_count": 18,
      "outputs": []
    },
    {
      "cell_type": "markdown",
      "source": [
        "##### Необходимо произвести масштабирование"
      ],
      "metadata": {
        "id": "9myWlFNrYFq_"
      }
    },
    {
      "cell_type": "code",
      "source": [
        "import pandas as pd\n",
        "from sklearn.preprocessing import StandardScaler\n",
        "\n",
        "ss = StandardScaler()\n",
        "ss.fit(Xtrain)\n",
        "\n",
        "Xtrain = pd.DataFrame(ss.transform(Xtrain), columns=X.columns)\n",
        "Xtest = pd.DataFrame(ss.transform(Xtest), columns=X.columns)\n",
        "\n",
        "Xtrain.head()"
      ],
      "metadata": {
        "colab": {
          "base_uri": "https://localhost:8080/",
          "height": 206
        },
        "id": "WRvA58RmYG5p",
        "outputId": "eefdf63a-6e4d-4877-8332-d265d8afcbe7"
      },
      "execution_count": 19,
      "outputs": [
        {
          "output_type": "execute_result",
          "data": {
            "text/plain": [
              "        age  capital-gain  capital-loss  hours-per-week\n",
              "0  0.520223     -0.142379     -0.218738       -0.040793\n",
              "1 -1.429608     -0.142379      3.746918       -0.845606\n",
              "2 -0.996312     -0.142379     -0.218738        0.764020\n",
              "3  0.159144     -0.142379     -0.218738       -0.845606\n",
              "4 -1.357392     -0.142379     -0.218738       -0.040793"
            ],
            "text/html": [
              "\n",
              "  <div id=\"df-2c1225ce-086a-450d-aa57-09c99cec55fe\">\n",
              "    <div class=\"colab-df-container\">\n",
              "      <div>\n",
              "<style scoped>\n",
              "    .dataframe tbody tr th:only-of-type {\n",
              "        vertical-align: middle;\n",
              "    }\n",
              "\n",
              "    .dataframe tbody tr th {\n",
              "        vertical-align: top;\n",
              "    }\n",
              "\n",
              "    .dataframe thead th {\n",
              "        text-align: right;\n",
              "    }\n",
              "</style>\n",
              "<table border=\"1\" class=\"dataframe\">\n",
              "  <thead>\n",
              "    <tr style=\"text-align: right;\">\n",
              "      <th></th>\n",
              "      <th>age</th>\n",
              "      <th>capital-gain</th>\n",
              "      <th>capital-loss</th>\n",
              "      <th>hours-per-week</th>\n",
              "    </tr>\n",
              "  </thead>\n",
              "  <tbody>\n",
              "    <tr>\n",
              "      <th>0</th>\n",
              "      <td>0.520223</td>\n",
              "      <td>-0.142379</td>\n",
              "      <td>-0.218738</td>\n",
              "      <td>-0.040793</td>\n",
              "    </tr>\n",
              "    <tr>\n",
              "      <th>1</th>\n",
              "      <td>-1.429608</td>\n",
              "      <td>-0.142379</td>\n",
              "      <td>3.746918</td>\n",
              "      <td>-0.845606</td>\n",
              "    </tr>\n",
              "    <tr>\n",
              "      <th>2</th>\n",
              "      <td>-0.996312</td>\n",
              "      <td>-0.142379</td>\n",
              "      <td>-0.218738</td>\n",
              "      <td>0.764020</td>\n",
              "    </tr>\n",
              "    <tr>\n",
              "      <th>3</th>\n",
              "      <td>0.159144</td>\n",
              "      <td>-0.142379</td>\n",
              "      <td>-0.218738</td>\n",
              "      <td>-0.845606</td>\n",
              "    </tr>\n",
              "    <tr>\n",
              "      <th>4</th>\n",
              "      <td>-1.357392</td>\n",
              "      <td>-0.142379</td>\n",
              "      <td>-0.218738</td>\n",
              "      <td>-0.040793</td>\n",
              "    </tr>\n",
              "  </tbody>\n",
              "</table>\n",
              "</div>\n",
              "      <button class=\"colab-df-convert\" onclick=\"convertToInteractive('df-2c1225ce-086a-450d-aa57-09c99cec55fe')\"\n",
              "              title=\"Convert this dataframe to an interactive table.\"\n",
              "              style=\"display:none;\">\n",
              "        \n",
              "  <svg xmlns=\"http://www.w3.org/2000/svg\" height=\"24px\"viewBox=\"0 0 24 24\"\n",
              "       width=\"24px\">\n",
              "    <path d=\"M0 0h24v24H0V0z\" fill=\"none\"/>\n",
              "    <path d=\"M18.56 5.44l.94 2.06.94-2.06 2.06-.94-2.06-.94-.94-2.06-.94 2.06-2.06.94zm-11 1L8.5 8.5l.94-2.06 2.06-.94-2.06-.94L8.5 2.5l-.94 2.06-2.06.94zm10 10l.94 2.06.94-2.06 2.06-.94-2.06-.94-.94-2.06-.94 2.06-2.06.94z\"/><path d=\"M17.41 7.96l-1.37-1.37c-.4-.4-.92-.59-1.43-.59-.52 0-1.04.2-1.43.59L10.3 9.45l-7.72 7.72c-.78.78-.78 2.05 0 2.83L4 21.41c.39.39.9.59 1.41.59.51 0 1.02-.2 1.41-.59l7.78-7.78 2.81-2.81c.8-.78.8-2.07 0-2.86zM5.41 20L4 18.59l7.72-7.72 1.47 1.35L5.41 20z\"/>\n",
              "  </svg>\n",
              "      </button>\n",
              "      \n",
              "  <style>\n",
              "    .colab-df-container {\n",
              "      display:flex;\n",
              "      flex-wrap:wrap;\n",
              "      gap: 12px;\n",
              "    }\n",
              "\n",
              "    .colab-df-convert {\n",
              "      background-color: #E8F0FE;\n",
              "      border: none;\n",
              "      border-radius: 50%;\n",
              "      cursor: pointer;\n",
              "      display: none;\n",
              "      fill: #1967D2;\n",
              "      height: 32px;\n",
              "      padding: 0 0 0 0;\n",
              "      width: 32px;\n",
              "    }\n",
              "\n",
              "    .colab-df-convert:hover {\n",
              "      background-color: #E2EBFA;\n",
              "      box-shadow: 0px 1px 2px rgba(60, 64, 67, 0.3), 0px 1px 3px 1px rgba(60, 64, 67, 0.15);\n",
              "      fill: #174EA6;\n",
              "    }\n",
              "\n",
              "    [theme=dark] .colab-df-convert {\n",
              "      background-color: #3B4455;\n",
              "      fill: #D2E3FC;\n",
              "    }\n",
              "\n",
              "    [theme=dark] .colab-df-convert:hover {\n",
              "      background-color: #434B5C;\n",
              "      box-shadow: 0px 1px 3px 1px rgba(0, 0, 0, 0.15);\n",
              "      filter: drop-shadow(0px 1px 2px rgba(0, 0, 0, 0.3));\n",
              "      fill: #FFFFFF;\n",
              "    }\n",
              "  </style>\n",
              "\n",
              "      <script>\n",
              "        const buttonEl =\n",
              "          document.querySelector('#df-2c1225ce-086a-450d-aa57-09c99cec55fe button.colab-df-convert');\n",
              "        buttonEl.style.display =\n",
              "          google.colab.kernel.accessAllowed ? 'block' : 'none';\n",
              "\n",
              "        async function convertToInteractive(key) {\n",
              "          const element = document.querySelector('#df-2c1225ce-086a-450d-aa57-09c99cec55fe');\n",
              "          const dataTable =\n",
              "            await google.colab.kernel.invokeFunction('convertToInteractive',\n",
              "                                                     [key], {});\n",
              "          if (!dataTable) return;\n",
              "\n",
              "          const docLinkHtml = 'Like what you see? Visit the ' +\n",
              "            '<a target=\"_blank\" href=https://colab.research.google.com/notebooks/data_table.ipynb>data table notebook</a>'\n",
              "            + ' to learn more about interactive tables.';\n",
              "          element.innerHTML = '';\n",
              "          dataTable['output_type'] = 'display_data';\n",
              "          await google.colab.output.renderOutput(dataTable, element);\n",
              "          const docLink = document.createElement('div');\n",
              "          docLink.innerHTML = docLinkHtml;\n",
              "          element.appendChild(docLink);\n",
              "        }\n",
              "      </script>\n",
              "    </div>\n",
              "  </div>\n",
              "  "
            ]
          },
          "metadata": {},
          "execution_count": 19
        }
      ]
    },
    {
      "cell_type": "markdown",
      "source": [
        "##### Обучим логистическую регрессию"
      ],
      "metadata": {
        "id": "0URJbycsY3-O"
      }
    },
    {
      "cell_type": "code",
      "source": [
        "from sklearn.linear_model import LogisticRegression\n",
        "\n",
        "model = LogisticRegression() # объявление модели\n",
        "model.fit(Xtrain, ytrain) # обучение модели"
      ],
      "metadata": {
        "colab": {
          "base_uri": "https://localhost:8080/"
        },
        "id": "V-EJorxbYtzJ",
        "outputId": "44404d52-d3b8-4ea3-fc71-168eb907368e"
      },
      "execution_count": 20,
      "outputs": [
        {
          "output_type": "execute_result",
          "data": {
            "text/plain": [
              "LogisticRegression()"
            ]
          },
          "metadata": {},
          "execution_count": 20
        }
      ]
    },
    {
      "cell_type": "markdown",
      "source": [
        "##### Теперь по результатам модель делает предсказания"
      ],
      "metadata": {
        "id": "IzQWww4TZnUA"
      }
    },
    {
      "cell_type": "code",
      "source": [
        "pred_test = model.predict(Xtest) # предсказание классов"
      ],
      "metadata": {
        "id": "QhZwhM0pZoh7"
      },
      "execution_count": 21,
      "outputs": []
    },
    {
      "cell_type": "markdown",
      "source": [
        "##### Просмотр результатов тестов"
      ],
      "metadata": {
        "id": "bPIy647jZ7jj"
      }
    },
    {
      "cell_type": "code",
      "source": [
        "pred_test # просмотр результатов в переменной"
      ],
      "metadata": {
        "colab": {
          "base_uri": "https://localhost:8080/"
        },
        "id": "AmfjcnHPZ9Cu",
        "outputId": "f73a993b-4c9c-4aa2-ce98-4ddcff9cf982"
      },
      "execution_count": 22,
      "outputs": [
        {
          "output_type": "execute_result",
          "data": {
            "text/plain": [
              "array([0, 0, 0, ..., 0, 0, 0])"
            ]
          },
          "metadata": {},
          "execution_count": 22
        }
      ]
    },
    {
      "cell_type": "code",
      "source": [
        "accuracy_score(ytest, pred_test)"
      ],
      "metadata": {
        "colab": {
          "base_uri": "https://localhost:8080/"
        },
        "id": "wb57z7BNaFWn",
        "outputId": "80ed5604-2ef9-42b2-c345-801a73f633a8"
      },
      "execution_count": 23,
      "outputs": [
        {
          "output_type": "execute_result",
          "data": {
            "text/plain": [
              "0.790765391014975"
            ]
          },
          "metadata": {},
          "execution_count": 23
        }
      ]
    },
    {
      "cell_type": "code",
      "source": [
        "y.value_counts()"
      ],
      "metadata": {
        "colab": {
          "base_uri": "https://localhost:8080/"
        },
        "id": "Edi1VXaGanuX",
        "outputId": "a2f8cb32-ecb4-49e7-90d6-72a6ea9a7902"
      },
      "execution_count": 24,
      "outputs": [
        {
          "output_type": "execute_result",
          "data": {
            "text/plain": [
              "0    7357\n",
              "1    2258\n",
              "Name: income, dtype: int64"
            ]
          },
          "metadata": {},
          "execution_count": 24
        }
      ]
    },
    {
      "cell_type": "code",
      "source": [
        "pred_test[:20]"
      ],
      "metadata": {
        "colab": {
          "base_uri": "https://localhost:8080/"
        },
        "id": "e9mUG4a9aocv",
        "outputId": "b0e29830-7484-4e01-88ee-80f2b9d3bede"
      },
      "execution_count": 25,
      "outputs": [
        {
          "output_type": "execute_result",
          "data": {
            "text/plain": [
              "array([0, 0, 0, 0, 0, 0, 0, 0, 0, 0, 0, 1, 0, 1, 0, 0, 0, 0, 0, 0])"
            ]
          },
          "metadata": {},
          "execution_count": 25
        }
      ]
    },
    {
      "cell_type": "code",
      "source": [
        "ytest.head(20)"
      ],
      "metadata": {
        "colab": {
          "base_uri": "https://localhost:8080/"
        },
        "id": "Jhfv40oha1K7",
        "outputId": "61c1b624-6d99-48ef-cc13-5bdc4af02f7f"
      },
      "execution_count": 26,
      "outputs": [
        {
          "output_type": "execute_result",
          "data": {
            "text/plain": [
              "9500    0\n",
              "2012    0\n",
              "367     1\n",
              "9608    0\n",
              "4634    0\n",
              "5229    0\n",
              "1880    0\n",
              "1833    0\n",
              "251     0\n",
              "543     1\n",
              "4514    0\n",
              "1402    1\n",
              "4161    1\n",
              "1732    1\n",
              "782     0\n",
              "3872    0\n",
              "4742    0\n",
              "5753    0\n",
              "3445    0\n",
              "1919    0\n",
              "Name: income, dtype: int64"
            ]
          },
          "metadata": {},
          "execution_count": 26
        }
      ]
    },
    {
      "cell_type": "markdown",
      "source": [
        "## Валидация модели"
      ],
      "metadata": {
        "id": "TUHU6sA9cC1A"
      }
    },
    {
      "cell_type": "code",
      "source": [
        "from sklearn.metrics import confusion_matrix\n",
        "\n",
        "confusion_matrix(ytest, pred_test)"
      ],
      "metadata": {
        "colab": {
          "base_uri": "https://localhost:8080/"
        },
        "id": "Xs-FWi5VcDgR",
        "outputId": "6697c76f-7e33-4476-ebfc-e17b0967c32f"
      },
      "execution_count": 27,
      "outputs": [
        {
          "output_type": "execute_result",
          "data": {
            "text/plain": [
              "array([[1756,   59],\n",
              "       [ 444,  145]])"
            ]
          },
          "metadata": {},
          "execution_count": 27
        }
      ]
    },
    {
      "cell_type": "code",
      "source": [
        "ytest.value_counts()"
      ],
      "metadata": {
        "colab": {
          "base_uri": "https://localhost:8080/"
        },
        "id": "YjX_IEsjhuLp",
        "outputId": "91cee267-b95d-439a-a116-4e10b2f48d9a"
      },
      "execution_count": 28,
      "outputs": [
        {
          "output_type": "execute_result",
          "data": {
            "text/plain": [
              "0    1815\n",
              "1     589\n",
              "Name: income, dtype: int64"
            ]
          },
          "metadata": {},
          "execution_count": 28
        }
      ]
    },
    {
      "cell_type": "markdown",
      "source": [
        "##### Считаем recall (полнота) - показывает, какую долю клиентов с зарплатой >50K нашла модель\n",
        "##### ( TP / TP + FN = 145 / 145 + 444 )"
      ],
      "metadata": {
        "id": "zKQNb4CrfLPQ"
      }
    },
    {
      "cell_type": "code",
      "source": [
        "from sklearn.metrics import recall_score\n",
        "\n",
        "recall_score(ytest, pred_test)"
      ],
      "metadata": {
        "colab": {
          "base_uri": "https://localhost:8080/"
        },
        "id": "Zr2LChx8cROc",
        "outputId": "ba399914-f462-4216-8ee3-5d16e5ae2d6d"
      },
      "execution_count": 29,
      "outputs": [
        {
          "output_type": "execute_result",
          "data": {
            "text/plain": [
              "0.2461799660441426"
            ]
          },
          "metadata": {},
          "execution_count": 29
        }
      ]
    },
    {
      "cell_type": "markdown",
      "source": [
        "##### Считаем precision (точность) - показывает, какую долю клиентов действительно с зарплатой >50K из тех, что модель определила как >50K\n",
        "##### ( TP / TP + FP = 145 / 145 + 59 )"
      ],
      "metadata": {
        "id": "cdxSy9eCg_nO"
      }
    },
    {
      "cell_type": "code",
      "source": [
        "from sklearn.metrics import precision_score\n",
        "\n",
        "precision_score(ytest, pred_test)"
      ],
      "metadata": {
        "colab": {
          "base_uri": "https://localhost:8080/"
        },
        "id": "ea9KrieNhBo1",
        "outputId": "f53c1c82-6a12-4351-b8d5-6c9ac533e793"
      },
      "execution_count": 30,
      "outputs": [
        {
          "output_type": "execute_result",
          "data": {
            "text/plain": [
              "0.7107843137254902"
            ]
          },
          "metadata": {},
          "execution_count": 30
        }
      ]
    },
    {
      "cell_type": "markdown",
      "source": [
        "##### Проверим вероятности, выдаваемые моделью"
      ],
      "metadata": {
        "id": "S33iTep9kkPA"
      }
    },
    {
      "cell_type": "code",
      "source": [
        "probs = model.predict_proba(Xtest)\n",
        "\n",
        "probs[:10]"
      ],
      "metadata": {
        "colab": {
          "base_uri": "https://localhost:8080/"
        },
        "id": "8MsPv_LshN3Z",
        "outputId": "e7c1668f-a6c2-462a-b488-17ab97bc5eb9"
      },
      "execution_count": 31,
      "outputs": [
        {
          "output_type": "execute_result",
          "data": {
            "text/plain": [
              "array([[0.89941142, 0.10058858],\n",
              "       [0.70267931, 0.29732069],\n",
              "       [0.65100673, 0.34899327],\n",
              "       [0.91369703, 0.08630297],\n",
              "       [0.75007659, 0.24992341],\n",
              "       [0.51054282, 0.48945718],\n",
              "       [0.88066559, 0.11933441],\n",
              "       [0.81842764, 0.18157236],\n",
              "       [0.79790315, 0.20209685],\n",
              "       [0.84727885, 0.15272115]])"
            ]
          },
          "metadata": {},
          "execution_count": 31
        }
      ]
    },
    {
      "cell_type": "markdown",
      "source": [
        "##### Пробуем изменить порог для перевода вероятности в классы с 0.5 до 0.3"
      ],
      "metadata": {
        "id": "SBM0P3q8ldpk"
      }
    },
    {
      "cell_type": "code",
      "source": [
        "probs_income = probs[:,1]\n",
        "\n",
        "classes = probs_income > 0.3"
      ],
      "metadata": {
        "id": "6KejxmJjlgmN"
      },
      "execution_count": 32,
      "outputs": []
    },
    {
      "cell_type": "code",
      "source": [
        "confusion_matrix(ytest, classes)"
      ],
      "metadata": {
        "colab": {
          "base_uri": "https://localhost:8080/"
        },
        "id": "srStkH37l0l1",
        "outputId": "ad2b2cb3-214e-42f1-d6a0-a12e36bb57f0"
      },
      "execution_count": 33,
      "outputs": [
        {
          "output_type": "execute_result",
          "data": {
            "text/plain": [
              "array([[1590,  225],\n",
              "       [ 324,  265]])"
            ]
          },
          "metadata": {},
          "execution_count": 33
        }
      ]
    },
    {
      "cell_type": "code",
      "source": [
        "ytest.value_counts()"
      ],
      "metadata": {
        "colab": {
          "base_uri": "https://localhost:8080/"
        },
        "id": "KccoQyD4l6jW",
        "outputId": "543c32a8-4877-4267-91d2-aaf7bc805c1c"
      },
      "execution_count": 34,
      "outputs": [
        {
          "output_type": "execute_result",
          "data": {
            "text/plain": [
              "0    1815\n",
              "1     589\n",
              "Name: income, dtype: int64"
            ]
          },
          "metadata": {},
          "execution_count": 34
        }
      ]
    },
    {
      "cell_type": "code",
      "source": [
        "recall_score(ytest, classes)"
      ],
      "metadata": {
        "colab": {
          "base_uri": "https://localhost:8080/"
        },
        "id": "xp3qLwYRmVxK",
        "outputId": "fdbad32b-634c-4df7-c228-aa0565c146cb"
      },
      "execution_count": 35,
      "outputs": [
        {
          "output_type": "execute_result",
          "data": {
            "text/plain": [
              "0.44991511035653653"
            ]
          },
          "metadata": {},
          "execution_count": 35
        }
      ]
    },
    {
      "cell_type": "code",
      "source": [
        "from sklearn.metrics import precision_score\n",
        "\n",
        "precision_score(ytest, classes)"
      ],
      "metadata": {
        "colab": {
          "base_uri": "https://localhost:8080/"
        },
        "id": "ixa4JozGmbwM",
        "outputId": "2cde9a30-ae2a-4fe5-a6d3-720fefc77185"
      },
      "execution_count": 36,
      "outputs": [
        {
          "output_type": "execute_result",
          "data": {
            "text/plain": [
              "0.5408163265306123"
            ]
          },
          "metadata": {},
          "execution_count": 36
        }
      ]
    },
    {
      "cell_type": "markdown",
      "source": [
        "### Интерпретация модели"
      ],
      "metadata": {
        "id": "B1kI2EPGSnvS"
      }
    },
    {
      "cell_type": "markdown",
      "source": [
        "##### После обучения модели, можно посмотреть на её веса, то есть на коэффициенты при признаках, найденные моделью"
      ],
      "metadata": {
        "id": "85B0ph3BTGtH"
      }
    },
    {
      "cell_type": "code",
      "source": [
        "model.coef_, model.intercept_"
      ],
      "metadata": {
        "colab": {
          "base_uri": "https://localhost:8080/"
        },
        "id": "2CAatba8nYuk",
        "outputId": "dde5ec15-e169-4c42-d725-a918d0c127b7"
      },
      "execution_count": 37,
      "outputs": [
        {
          "output_type": "execute_result",
          "data": {
            "text/plain": [
              "(array([[0.47265279, 2.5053824 , 0.29222569, 0.50749927]]),\n",
              " array([-1.21076667]))"
            ]
          },
          "metadata": {},
          "execution_count": 37
        }
      ]
    },
    {
      "cell_type": "code",
      "source": [
        "import pandas as pd\n",
        "\n",
        "coef_table = pd.DataFrame({'features' : list(X.columns), 'weights' : list(model.coef_[0])})\n",
        "\n",
        "coef_table.sort_values(by='weights')"
      ],
      "metadata": {
        "colab": {
          "base_uri": "https://localhost:8080/",
          "height": 175
        },
        "id": "5zOixdoxSyI1",
        "outputId": "0ab57cce-351e-4bee-888c-78e8ac011e19"
      },
      "execution_count": 39,
      "outputs": [
        {
          "output_type": "execute_result",
          "data": {
            "text/plain": [
              "         features   weights\n",
              "2    capital-loss  0.292226\n",
              "0             age  0.472653\n",
              "3  hours-per-week  0.507499\n",
              "1    capital-gain  2.505382"
            ],
            "text/html": [
              "\n",
              "  <div id=\"df-5341690e-6897-4071-a4b1-612377dfb2cb\">\n",
              "    <div class=\"colab-df-container\">\n",
              "      <div>\n",
              "<style scoped>\n",
              "    .dataframe tbody tr th:only-of-type {\n",
              "        vertical-align: middle;\n",
              "    }\n",
              "\n",
              "    .dataframe tbody tr th {\n",
              "        vertical-align: top;\n",
              "    }\n",
              "\n",
              "    .dataframe thead th {\n",
              "        text-align: right;\n",
              "    }\n",
              "</style>\n",
              "<table border=\"1\" class=\"dataframe\">\n",
              "  <thead>\n",
              "    <tr style=\"text-align: right;\">\n",
              "      <th></th>\n",
              "      <th>features</th>\n",
              "      <th>weights</th>\n",
              "    </tr>\n",
              "  </thead>\n",
              "  <tbody>\n",
              "    <tr>\n",
              "      <th>2</th>\n",
              "      <td>capital-loss</td>\n",
              "      <td>0.292226</td>\n",
              "    </tr>\n",
              "    <tr>\n",
              "      <th>0</th>\n",
              "      <td>age</td>\n",
              "      <td>0.472653</td>\n",
              "    </tr>\n",
              "    <tr>\n",
              "      <th>3</th>\n",
              "      <td>hours-per-week</td>\n",
              "      <td>0.507499</td>\n",
              "    </tr>\n",
              "    <tr>\n",
              "      <th>1</th>\n",
              "      <td>capital-gain</td>\n",
              "      <td>2.505382</td>\n",
              "    </tr>\n",
              "  </tbody>\n",
              "</table>\n",
              "</div>\n",
              "      <button class=\"colab-df-convert\" onclick=\"convertToInteractive('df-5341690e-6897-4071-a4b1-612377dfb2cb')\"\n",
              "              title=\"Convert this dataframe to an interactive table.\"\n",
              "              style=\"display:none;\">\n",
              "        \n",
              "  <svg xmlns=\"http://www.w3.org/2000/svg\" height=\"24px\"viewBox=\"0 0 24 24\"\n",
              "       width=\"24px\">\n",
              "    <path d=\"M0 0h24v24H0V0z\" fill=\"none\"/>\n",
              "    <path d=\"M18.56 5.44l.94 2.06.94-2.06 2.06-.94-2.06-.94-.94-2.06-.94 2.06-2.06.94zm-11 1L8.5 8.5l.94-2.06 2.06-.94-2.06-.94L8.5 2.5l-.94 2.06-2.06.94zm10 10l.94 2.06.94-2.06 2.06-.94-2.06-.94-.94-2.06-.94 2.06-2.06.94z\"/><path d=\"M17.41 7.96l-1.37-1.37c-.4-.4-.92-.59-1.43-.59-.52 0-1.04.2-1.43.59L10.3 9.45l-7.72 7.72c-.78.78-.78 2.05 0 2.83L4 21.41c.39.39.9.59 1.41.59.51 0 1.02-.2 1.41-.59l7.78-7.78 2.81-2.81c.8-.78.8-2.07 0-2.86zM5.41 20L4 18.59l7.72-7.72 1.47 1.35L5.41 20z\"/>\n",
              "  </svg>\n",
              "      </button>\n",
              "      \n",
              "  <style>\n",
              "    .colab-df-container {\n",
              "      display:flex;\n",
              "      flex-wrap:wrap;\n",
              "      gap: 12px;\n",
              "    }\n",
              "\n",
              "    .colab-df-convert {\n",
              "      background-color: #E8F0FE;\n",
              "      border: none;\n",
              "      border-radius: 50%;\n",
              "      cursor: pointer;\n",
              "      display: none;\n",
              "      fill: #1967D2;\n",
              "      height: 32px;\n",
              "      padding: 0 0 0 0;\n",
              "      width: 32px;\n",
              "    }\n",
              "\n",
              "    .colab-df-convert:hover {\n",
              "      background-color: #E2EBFA;\n",
              "      box-shadow: 0px 1px 2px rgba(60, 64, 67, 0.3), 0px 1px 3px 1px rgba(60, 64, 67, 0.15);\n",
              "      fill: #174EA6;\n",
              "    }\n",
              "\n",
              "    [theme=dark] .colab-df-convert {\n",
              "      background-color: #3B4455;\n",
              "      fill: #D2E3FC;\n",
              "    }\n",
              "\n",
              "    [theme=dark] .colab-df-convert:hover {\n",
              "      background-color: #434B5C;\n",
              "      box-shadow: 0px 1px 3px 1px rgba(0, 0, 0, 0.15);\n",
              "      filter: drop-shadow(0px 1px 2px rgba(0, 0, 0, 0.3));\n",
              "      fill: #FFFFFF;\n",
              "    }\n",
              "  </style>\n",
              "\n",
              "      <script>\n",
              "        const buttonEl =\n",
              "          document.querySelector('#df-5341690e-6897-4071-a4b1-612377dfb2cb button.colab-df-convert');\n",
              "        buttonEl.style.display =\n",
              "          google.colab.kernel.accessAllowed ? 'block' : 'none';\n",
              "\n",
              "        async function convertToInteractive(key) {\n",
              "          const element = document.querySelector('#df-5341690e-6897-4071-a4b1-612377dfb2cb');\n",
              "          const dataTable =\n",
              "            await google.colab.kernel.invokeFunction('convertToInteractive',\n",
              "                                                     [key], {});\n",
              "          if (!dataTable) return;\n",
              "\n",
              "          const docLinkHtml = 'Like what you see? Visit the ' +\n",
              "            '<a target=\"_blank\" href=https://colab.research.google.com/notebooks/data_table.ipynb>data table notebook</a>'\n",
              "            + ' to learn more about interactive tables.';\n",
              "          element.innerHTML = '';\n",
              "          dataTable['output_type'] = 'display_data';\n",
              "          await google.colab.output.renderOutput(dataTable, element);\n",
              "          const docLink = document.createElement('div');\n",
              "          docLink.innerHTML = docLinkHtml;\n",
              "          element.appendChild(docLink);\n",
              "        }\n",
              "      </script>\n",
              "    </div>\n",
              "  </div>\n",
              "  "
            ]
          },
          "metadata": {},
          "execution_count": 39
        }
      ]
    },
    {
      "cell_type": "markdown",
      "source": [
        "### Градиентный бустинг"
      ],
      "metadata": {
        "id": "0S8CNI5RZooJ"
      }
    },
    {
      "cell_type": "markdown",
      "source": [
        "##### Посчитаем качество логистической регрессии"
      ],
      "metadata": {
        "id": "Gu7tPRrvaRZj"
      }
    },
    {
      "cell_type": "code",
      "source": [
        "from sklearn import metrics\n",
        "\n",
        "print('LR quality')\n",
        "print('precision: ', metrics.precision_score(ytest, classes))\n",
        "print('recall: ', metrics.recall_score(ytest, classes))\n",
        "print('auc-roc: ', metrics.roc_auc_score(ytest, probs[:, 1]))"
      ],
      "metadata": {
        "colab": {
          "base_uri": "https://localhost:8080/"
        },
        "id": "WglGUXK4ThBN",
        "outputId": "c95d2651-4530-4f5e-be18-dd904d9114f1"
      },
      "execution_count": 40,
      "outputs": [
        {
          "output_type": "stream",
          "name": "stdout",
          "text": [
            "LR quality\n",
            "precision:  0.5408163265306123\n",
            "recall:  0.44991511035653653\n",
            "auc-roc:  0.7806512415402677\n"
          ]
        }
      ]
    },
    {
      "cell_type": "markdown",
      "source": [
        "##### Установка CatBoost для использования градиентного бустинга"
      ],
      "metadata": {
        "id": "Aia3tK9VbUHd"
      }
    },
    {
      "cell_type": "code",
      "source": [
        "!pip install catboost"
      ],
      "metadata": {
        "colab": {
          "base_uri": "https://localhost:8080/"
        },
        "id": "4BFw-NwRaMTL",
        "outputId": "5d9dbf51-da65-46f4-dc0e-b3bd5c1eb728"
      },
      "execution_count": 41,
      "outputs": [
        {
          "output_type": "stream",
          "name": "stdout",
          "text": [
            "Looking in indexes: https://pypi.org/simple, https://us-python.pkg.dev/colab-wheels/public/simple/\n",
            "Collecting catboost\n",
            "  Downloading catboost-1.1.1-cp38-none-manylinux1_x86_64.whl (76.6 MB)\n",
            "\u001b[2K     \u001b[90m━━━━━━━━━━━━━━━━━━━━━━━━━━━━━━━━━━━━━━━━\u001b[0m \u001b[32m76.6/76.6 MB\u001b[0m \u001b[31m8.9 MB/s\u001b[0m eta \u001b[36m0:00:00\u001b[0m\n",
            "\u001b[?25hRequirement already satisfied: graphviz in /usr/local/lib/python3.8/dist-packages (from catboost) (0.10.1)\n",
            "Requirement already satisfied: matplotlib in /usr/local/lib/python3.8/dist-packages (from catboost) (3.5.3)\n",
            "Requirement already satisfied: pandas>=0.24.0 in /usr/local/lib/python3.8/dist-packages (from catboost) (1.3.5)\n",
            "Requirement already satisfied: six in /usr/local/lib/python3.8/dist-packages (from catboost) (1.15.0)\n",
            "Requirement already satisfied: scipy in /usr/local/lib/python3.8/dist-packages (from catboost) (1.7.3)\n",
            "Requirement already satisfied: plotly in /usr/local/lib/python3.8/dist-packages (from catboost) (5.5.0)\n",
            "Requirement already satisfied: numpy>=1.16.0 in /usr/local/lib/python3.8/dist-packages (from catboost) (1.22.4)\n",
            "Requirement already satisfied: python-dateutil>=2.7.3 in /usr/local/lib/python3.8/dist-packages (from pandas>=0.24.0->catboost) (2.8.2)\n",
            "Requirement already satisfied: pytz>=2017.3 in /usr/local/lib/python3.8/dist-packages (from pandas>=0.24.0->catboost) (2022.7.1)\n",
            "Requirement already satisfied: packaging>=20.0 in /usr/local/lib/python3.8/dist-packages (from matplotlib->catboost) (23.0)\n",
            "Requirement already satisfied: kiwisolver>=1.0.1 in /usr/local/lib/python3.8/dist-packages (from matplotlib->catboost) (1.4.4)\n",
            "Requirement already satisfied: fonttools>=4.22.0 in /usr/local/lib/python3.8/dist-packages (from matplotlib->catboost) (4.38.0)\n",
            "Requirement already satisfied: pillow>=6.2.0 in /usr/local/lib/python3.8/dist-packages (from matplotlib->catboost) (7.1.2)\n",
            "Requirement already satisfied: pyparsing>=2.2.1 in /usr/local/lib/python3.8/dist-packages (from matplotlib->catboost) (3.0.9)\n",
            "Requirement already satisfied: cycler>=0.10 in /usr/local/lib/python3.8/dist-packages (from matplotlib->catboost) (0.11.0)\n",
            "Requirement already satisfied: tenacity>=6.2.0 in /usr/local/lib/python3.8/dist-packages (from plotly->catboost) (8.2.1)\n",
            "Installing collected packages: catboost\n",
            "Successfully installed catboost-1.1.1\n"
          ]
        }
      ]
    },
    {
      "cell_type": "code",
      "source": [
        "from catboost import CatBoostClassifier, Pool"
      ],
      "metadata": {
        "id": "V_MlVkSubvs8"
      },
      "execution_count": 42,
      "outputs": []
    },
    {
      "cell_type": "code",
      "source": [
        "train_set = Pool(Xtrain, ytrain)\n",
        "test_set = Pool(Xtest, ytest)"
      ],
      "metadata": {
        "id": "U0Zfo558bwD6"
      },
      "execution_count": 43,
      "outputs": []
    },
    {
      "cell_type": "code",
      "source": [
        "gbm = CatBoostClassifier(iterations=600,  # сколько деревьев\n",
        "                          depth=2,        # глубина каждого дерева\n",
        "                          learning_rate=0.1,\n",
        "                          loss_function='Logloss',\n",
        "                          eval_metric='AUC',\n",
        "                          verbose=False)\n",
        "gbm.fit(train_set, eval_set=test_set)     # обучение\n",
        "gbm_preds = gbm.predict_proba(Xtest)      # предсказание"
      ],
      "metadata": {
        "id": "gNHepea7e4nX"
      },
      "execution_count": 49,
      "outputs": []
    },
    {
      "cell_type": "markdown",
      "source": [
        "##### Построим график, который отображает качество модели на тестовой выборке по мере добавления деревьев"
      ],
      "metadata": {
        "id": "Y5ckfk0xhDbm"
      }
    },
    {
      "cell_type": "code",
      "source": [
        "eval_metrics = gbm.get_evals_result()\n",
        "plt.plot(eval_metrics['validation']['AUC'])\n",
        "plt.xlabel('n_trees')\n",
        "plt.ylabel('AUC')\n",
        "plt.grid()"
      ],
      "metadata": {
        "colab": {
          "base_uri": "https://localhost:8080/",
          "height": 280
        },
        "id": "tHrqKFQXgc_V",
        "outputId": "ebdac90c-aed2-4a62-9f45-f7da529b38a2"
      },
      "execution_count": 50,
      "outputs": [
        {
          "output_type": "display_data",
          "data": {
            "text/plain": [
              "<Figure size 432x288 with 1 Axes>"
            ],
            "image/png": "[encoded data removed]"
          },
          "metadata": {
            "needs_background": "light"
          }
        }
      ]
    },
    {
      "cell_type": "markdown",
      "source": [
        "##### Посчитаем качество градиентного бустинга"
      ],
      "metadata": {
        "id": "5CQTxCoFiy8A"
      }
    },
    {
      "cell_type": "code",
      "source": [
        "gbm_classes = (gbm_preds[:, 1] > 0.4)\n",
        "print('precision: ', metrics.precision_score(ytest, gbm_classes))\n",
        "print('recall: ', metrics.recall_score(ytest, gbm_classes))\n",
        "print('auc-roc: ', metrics.roc_auc_score(ytest, gbm_preds[:, 1]))"
      ],
      "metadata": {
        "colab": {
          "base_uri": "https://localhost:8080/"
        },
        "id": "0vr1k-4qhYav",
        "outputId": "c26e947d-e6a9-499d-806d-72e614bd8747"
      },
      "execution_count": 57,
      "outputs": [
        {
          "output_type": "stream",
          "name": "stdout",
          "text": [
            "precision:  0.6855670103092784\n",
            "recall:  0.45161290322580644\n",
            "auc-roc:  0.8376591973134649\n"
          ]
        }
      ]
    },
    {
      "cell_type": "markdown",
      "source": [
        "##### Важность признаков"
      ],
      "metadata": {
        "id": "1CJP2AQdkErQ"
      }
    },
    {
      "cell_type": "code",
      "source": [
        "coef_table = pd.DataFrame({'features' : list(X.columns), 'importances' : list(gbm.get_feature_importance())})\n",
        "\n",
        "coef_table.sort_values(by='importances')"
      ],
      "metadata": {
        "colab": {
          "base_uri": "https://localhost:8080/",
          "height": 175
        },
        "id": "_u1Fy820iUbH",
        "outputId": "c5bd1a3d-11d8-4e05-f105-75a5ca71d1b6"
      },
      "execution_count": 58,
      "outputs": [
        {
          "output_type": "execute_result",
          "data": {
            "text/plain": [
              "         features  importances\n",
              "3  hours-per-week    12.647400\n",
              "2    capital-loss    14.456026\n",
              "1    capital-gain    33.010987\n",
              "0             age    39.885587"
            ],
            "text/html": [
              "\n",
              "  <div id=\"df-6ab6dc01-d214-47ae-a72f-7c040b508662\">\n",
              "    <div class=\"colab-df-container\">\n",
              "      <div>\n",
              "<style scoped>\n",
              "    .dataframe tbody tr th:only-of-type {\n",
              "        vertical-align: middle;\n",
              "    }\n",
              "\n",
              "    .dataframe tbody tr th {\n",
              "        vertical-align: top;\n",
              "    }\n",
              "\n",
              "    .dataframe thead th {\n",
              "        text-align: right;\n",
              "    }\n",
              "</style>\n",
              "<table border=\"1\" class=\"dataframe\">\n",
              "  <thead>\n",
              "    <tr style=\"text-align: right;\">\n",
              "      <th></th>\n",
              "      <th>features</th>\n",
              "      <th>importances</th>\n",
              "    </tr>\n",
              "  </thead>\n",
              "  <tbody>\n",
              "    <tr>\n",
              "      <th>3</th>\n",
              "      <td>hours-per-week</td>\n",
              "      <td>12.647400</td>\n",
              "    </tr>\n",
              "    <tr>\n",
              "      <th>2</th>\n",
              "      <td>capital-loss</td>\n",
              "      <td>14.456026</td>\n",
              "    </tr>\n",
              "    <tr>\n",
              "      <th>1</th>\n",
              "      <td>capital-gain</td>\n",
              "      <td>33.010987</td>\n",
              "    </tr>\n",
              "    <tr>\n",
              "      <th>0</th>\n",
              "      <td>age</td>\n",
              "      <td>39.885587</td>\n",
              "    </tr>\n",
              "  </tbody>\n",
              "</table>\n",
              "</div>\n",
              "      <button class=\"colab-df-convert\" onclick=\"convertToInteractive('df-6ab6dc01-d214-47ae-a72f-7c040b508662')\"\n",
              "              title=\"Convert this dataframe to an interactive table.\"\n",
              "              style=\"display:none;\">\n",
              "        \n",
              "  <svg xmlns=\"http://www.w3.org/2000/svg\" height=\"24px\"viewBox=\"0 0 24 24\"\n",
              "       width=\"24px\">\n",
              "    <path d=\"M0 0h24v24H0V0z\" fill=\"none\"/>\n",
              "    <path d=\"M18.56 5.44l.94 2.06.94-2.06 2.06-.94-2.06-.94-.94-2.06-.94 2.06-2.06.94zm-11 1L8.5 8.5l.94-2.06 2.06-.94-2.06-.94L8.5 2.5l-.94 2.06-2.06.94zm10 10l.94 2.06.94-2.06 2.06-.94-2.06-.94-.94-2.06-.94 2.06-2.06.94z\"/><path d=\"M17.41 7.96l-1.37-1.37c-.4-.4-.92-.59-1.43-.59-.52 0-1.04.2-1.43.59L10.3 9.45l-7.72 7.72c-.78.78-.78 2.05 0 2.83L4 21.41c.39.39.9.59 1.41.59.51 0 1.02-.2 1.41-.59l7.78-7.78 2.81-2.81c.8-.78.8-2.07 0-2.86zM5.41 20L4 18.59l7.72-7.72 1.47 1.35L5.41 20z\"/>\n",
              "  </svg>\n",
              "      </button>\n",
              "      \n",
              "  <style>\n",
              "    .colab-df-container {\n",
              "      display:flex;\n",
              "      flex-wrap:wrap;\n",
              "      gap: 12px;\n",
              "    }\n",
              "\n",
              "    .colab-df-convert {\n",
              "      background-color: #E8F0FE;\n",
              "      border: none;\n",
              "      border-radius: 50%;\n",
              "      cursor: pointer;\n",
              "      display: none;\n",
              "      fill: #1967D2;\n",
              "      height: 32px;\n",
              "      padding: 0 0 0 0;\n",
              "      width: 32px;\n",
              "    }\n",
              "\n",
              "    .colab-df-convert:hover {\n",
              "      background-color: #E2EBFA;\n",
              "      box-shadow: 0px 1px 2px rgba(60, 64, 67, 0.3), 0px 1px 3px 1px rgba(60, 64, 67, 0.15);\n",
              "      fill: #174EA6;\n",
              "    }\n",
              "\n",
              "    [theme=dark] .colab-df-convert {\n",
              "      background-color: #3B4455;\n",
              "      fill: #D2E3FC;\n",
              "    }\n",
              "\n",
              "    [theme=dark] .colab-df-convert:hover {\n",
              "      background-color: #434B5C;\n",
              "      box-shadow: 0px 1px 3px 1px rgba(0, 0, 0, 0.15);\n",
              "      filter: drop-shadow(0px 1px 2px rgba(0, 0, 0, 0.3));\n",
              "      fill: #FFFFFF;\n",
              "    }\n",
              "  </style>\n",
              "\n",
              "      <script>\n",
              "        const buttonEl =\n",
              "          document.querySelector('#df-6ab6dc01-d214-47ae-a72f-7c040b508662 button.colab-df-convert');\n",
              "        buttonEl.style.display =\n",
              "          google.colab.kernel.accessAllowed ? 'block' : 'none';\n",
              "\n",
              "        async function convertToInteractive(key) {\n",
              "          const element = document.querySelector('#df-6ab6dc01-d214-47ae-a72f-7c040b508662');\n",
              "          const dataTable =\n",
              "            await google.colab.kernel.invokeFunction('convertToInteractive',\n",
              "                                                     [key], {});\n",
              "          if (!dataTable) return;\n",
              "\n",
              "          const docLinkHtml = 'Like what you see? Visit the ' +\n",
              "            '<a target=\"_blank\" href=https://colab.research.google.com/notebooks/data_table.ipynb>data table notebook</a>'\n",
              "            + ' to learn more about interactive tables.';\n",
              "          element.innerHTML = '';\n",
              "          dataTable['output_type'] = 'display_data';\n",
              "          await google.colab.output.renderOutput(dataTable, element);\n",
              "          const docLink = document.createElement('div');\n",
              "          docLink.innerHTML = docLinkHtml;\n",
              "          element.appendChild(docLink);\n",
              "        }\n",
              "      </script>\n",
              "    </div>\n",
              "  </div>\n",
              "  "
            ]
          },
          "metadata": {},
          "execution_count": 58
        }
      ]
    },
    {
      "cell_type": "markdown",
      "source": [
        "## Обработка категориальных признаков"
      ],
      "metadata": {
        "id": "S7iF6WuvsYul"
      }
    },
    {
      "cell_type": "code",
      "source": [
        "X_full = data.drop(['income', 'educational-num'], axis=1)"
      ],
      "metadata": {
        "id": "MwUu97doka1L"
      },
      "execution_count": 61,
      "outputs": []
    },
    {
      "cell_type": "code",
      "source": [
        "Xtrain_categ, Xtest_categ, ytrain_categ, ytest_categ = train_test_split(X_full, y, test_size=0.25, random_state=42)"
      ],
      "metadata": {
        "id": "IMPqWQlWsxrD"
      },
      "execution_count": 62,
      "outputs": []
    },
    {
      "cell_type": "code",
      "source": [
        "from sklearn.preprocessing import OneHotEncoder\n",
        "from sklearn.compose import ColumnTransformer\n",
        "\n",
        "categorical = ['workclass', 'education', 'marital-status', 'occupation', 'relationship', 'race', 'gender', 'native-country']\n",
        "numeric_features = X.columns\n",
        "\n",
        "column_transformer = ColumnTransformer([\n",
        "    ('ohe', OneHotEncoder(handle_unknown='ignore'), categorical),\n",
        "    ('scaling', StandardScaler(), numeric_features)\n",
        "])\n",
        "\n",
        "X_transformed = column_transformer.fit_transform(Xtrain_categ)\n",
        "X_test_transformed = column_transformer.transform(Xtest_categ)"
      ],
      "metadata": {
        "id": "OKL5BmCbuZdf"
      },
      "execution_count": 63,
      "outputs": []
    },
    {
      "cell_type": "code",
      "source": [
        "X_transformed.shape"
      ],
      "metadata": {
        "colab": {
          "base_uri": "https://localhost:8080/"
        },
        "id": "zpFbNlxzueLn",
        "outputId": "76a9d36d-b7eb-441a-8ba6-abd247c487e8"
      },
      "execution_count": 64,
      "outputs": [
        {
          "output_type": "execute_result",
          "data": {
            "text/plain": [
              "(7211, 105)"
            ]
          },
          "metadata": {},
          "execution_count": 64
        }
      ]
    },
    {
      "cell_type": "markdown",
      "source": [
        "##### Обучение линейной регресси с категориальными признаками"
      ],
      "metadata": {
        "id": "ixUoy5nev-aS"
      }
    },
    {
      "cell_type": "code",
      "source": [
        "model = LogisticRegression()\n",
        "model.fit(X_transformed, ytrain_categ)\n",
        "pred = model.predict_proba(X_test_transformed)"
      ],
      "metadata": {
        "id": "_vDOOBRKu_fU"
      },
      "execution_count": 65,
      "outputs": []
    },
    {
      "cell_type": "code",
      "source": [
        "classes = (pred[:, 1] > 0.5)\n",
        "print('precision: ', metrics.precision_score(ytest_categ, classes))\n",
        "print('recall: ', metrics.recall_score(ytest_categ, classes))\n",
        "print('auc-roc: ', metrics.roc_auc_score(ytest_categ, pred[:, 1]))"
      ],
      "metadata": {
        "colab": {
          "base_uri": "https://localhost:8080/"
        },
        "id": "AMRpETKDvsO3",
        "outputId": "230d8d8d-4bed-4ee7-b9dc-a20ffc030216"
      },
      "execution_count": 71,
      "outputs": [
        {
          "output_type": "stream",
          "name": "stdout",
          "text": [
            "precision:  0.7399103139013453\n",
            "recall:  0.5602716468590832\n",
            "auc-roc:  0.9010626406057798\n"
          ]
        }
      ]
    },
    {
      "cell_type": "markdown",
      "source": [
        "##### Обучение градиентного бустинга с категориальными признаками"
      ],
      "metadata": {
        "id": "Ow2GP1LFwG2h"
      }
    },
    {
      "cell_type": "code",
      "source": [
        "train_set = Pool(X_transformed, ytrain_categ)\n",
        "test_set = Pool(X_test_transformed, ytest_categ)\n",
        "gbm = CatBoostClassifier(iterations=100,\n",
        "                          depth=2,\n",
        "                          learning_rate=0.1,\n",
        "                          loss_function='Logloss',\n",
        "                          eval_metric='AUC',\n",
        "                          verbose=False)\n",
        "gbm.fit(train_set, eval_set=test_set)\n",
        "gbm_preds = gbm.predict_proba(test_set)\n",
        "gbm_classes = (gbm_preds[:, 1] > 0.5)\n",
        "print('precision: ', metrics.precision_score(ytest_categ, gbm_classes))\n",
        "print('recall: ', metrics.recall_score(ytest_categ, gbm_classes))\n",
        "print('auc-roc: ', metrics.roc_auc_score(ytest_categ, gbm_preds[:, 1]))"
      ],
      "metadata": {
        "colab": {
          "base_uri": "https://localhost:8080/"
        },
        "id": "aQpfZXUtvswV",
        "outputId": "9795b5b6-60ff-484d-c3ae-3d56fa1b61ff"
      },
      "execution_count": 72,
      "outputs": [
        {
          "output_type": "stream",
          "name": "stdout",
          "text": [
            "precision:  0.7994791666666666\n",
            "recall:  0.5212224108658744\n",
            "auc-roc:  0.9092475924548775\n"
          ]
        }
      ]
    }
  ]
}